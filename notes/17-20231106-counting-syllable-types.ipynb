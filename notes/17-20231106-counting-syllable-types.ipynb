{
 "cells": [
  {
   "cell_type": "markdown",
   "metadata": {},
   "source": [
    "# 오늘의 목표\n",
    "\n",
    "1. 표준국어대사전으로 만든 데이터프레임에서 명사 단어들만을 추출할 수 있다.\n",
    "2. 한글로 표기된 단어가 주어졌을 때 각 음절의 유형을 추출할 수 있다.\n",
    "    "
   ]
  },
  {
   "cell_type": "markdown",
   "metadata": {},
   "source": [
    "## 예시\n",
    "\n",
    "+ '왜냐하면' -> ('GV', 'CGV', 'CV', 'CGVC')"
   ]
  },
  {
   "cell_type": "markdown",
   "metadata": {},
   "source": [
    "# 1. 데이터 살펴보기"
   ]
  },
  {
   "cell_type": "markdown",
   "metadata": {},
   "source": [
    "## 1.1. 데이터프레임 가져오기"
   ]
  },
  {
   "cell_type": "code",
   "execution_count": 1,
   "metadata": {},
   "outputs": [],
   "source": [
    "import pandas as pd"
   ]
  },
  {
   "cell_type": "code",
   "execution_count": 2,
   "metadata": {},
   "outputs": [],
   "source": [
    "csvfilename = '../data/stdict_xml_20231105.csv'"
   ]
  },
  {
   "cell_type": "code",
   "execution_count": 3,
   "metadata": {},
   "outputs": [
    {
     "data": {
      "text/html": [
       "<div>\n",
       "<style scoped>\n",
       "    .dataframe tbody tr th:only-of-type {\n",
       "        vertical-align: middle;\n",
       "    }\n",
       "\n",
       "    .dataframe tbody tr th {\n",
       "        vertical-align: top;\n",
       "    }\n",
       "\n",
       "    .dataframe thead th {\n",
       "        text-align: right;\n",
       "    }\n",
       "</style>\n",
       "<table border=\"1\" class=\"dataframe\">\n",
       "  <thead>\n",
       "    <tr style=\"text-align: right;\">\n",
       "      <th></th>\n",
       "      <th>word</th>\n",
       "      <th>word_unit</th>\n",
       "      <th>word_type</th>\n",
       "      <th>pos</th>\n",
       "    </tr>\n",
       "    <tr>\n",
       "      <th>target_code</th>\n",
       "      <th></th>\n",
       "      <th></th>\n",
       "      <th></th>\n",
       "      <th></th>\n",
       "    </tr>\n",
       "  </thead>\n",
       "  <tbody>\n",
       "    <tr>\n",
       "      <th>1</th>\n",
       "      <td>가경-지</td>\n",
       "      <td>단어</td>\n",
       "      <td>한자어</td>\n",
       "      <td>명사</td>\n",
       "    </tr>\n",
       "    <tr>\n",
       "      <th>2</th>\n",
       "      <td>가계-하다01</td>\n",
       "      <td>단어</td>\n",
       "      <td>혼종어</td>\n",
       "      <td>동사</td>\n",
       "    </tr>\n",
       "    <tr>\n",
       "      <th>3</th>\n",
       "      <td>가계02</td>\n",
       "      <td>단어</td>\n",
       "      <td>한자어</td>\n",
       "      <td>명사</td>\n",
       "    </tr>\n",
       "    <tr>\n",
       "      <th>4</th>\n",
       "      <td>가계-되다</td>\n",
       "      <td>단어</td>\n",
       "      <td>혼종어</td>\n",
       "      <td>동사</td>\n",
       "    </tr>\n",
       "    <tr>\n",
       "      <th>5</th>\n",
       "      <td>가계-하다03</td>\n",
       "      <td>단어</td>\n",
       "      <td>혼종어</td>\n",
       "      <td>동사</td>\n",
       "    </tr>\n",
       "    <tr>\n",
       "      <th>...</th>\n",
       "      <td>...</td>\n",
       "      <td>...</td>\n",
       "      <td>...</td>\n",
       "      <td>...</td>\n",
       "    </tr>\n",
       "    <tr>\n",
       "      <th>534435</th>\n",
       "      <td>지체^장애</td>\n",
       "      <td>구</td>\n",
       "      <td>한자어</td>\n",
       "      <td>품사 없음</td>\n",
       "    </tr>\n",
       "    <tr>\n",
       "      <th>534436</th>\n",
       "      <td>신체^장애인</td>\n",
       "      <td>구</td>\n",
       "      <td>한자어</td>\n",
       "      <td>품사 없음</td>\n",
       "    </tr>\n",
       "    <tr>\n",
       "      <th>534437</th>\n",
       "      <td>지각06</td>\n",
       "      <td>단어</td>\n",
       "      <td>한자어</td>\n",
       "      <td>명사</td>\n",
       "    </tr>\n",
       "    <tr>\n",
       "      <th>534438</th>\n",
       "      <td>대마^난류</td>\n",
       "      <td>단어</td>\n",
       "      <td>한자어</td>\n",
       "      <td>품사 없음</td>\n",
       "    </tr>\n",
       "    <tr>\n",
       "      <th>534439</th>\n",
       "      <td>노동조합^총연맹</td>\n",
       "      <td>단어</td>\n",
       "      <td>한자어</td>\n",
       "      <td>품사 없음</td>\n",
       "    </tr>\n",
       "  </tbody>\n",
       "</table>\n",
       "<p>434870 rows × 4 columns</p>\n",
       "</div>"
      ],
      "text/plain": [
       "                 word word_unit word_type    pos\n",
       "target_code                                     \n",
       "1                가경-지        단어       한자어     명사\n",
       "2             가계-하다01        단어       혼종어     동사\n",
       "3                가계02        단어       한자어     명사\n",
       "4               가계-되다        단어       혼종어     동사\n",
       "5             가계-하다03        단어       혼종어     동사\n",
       "...               ...       ...       ...    ...\n",
       "534435          지체^장애         구       한자어  품사 없음\n",
       "534436         신체^장애인         구       한자어  품사 없음\n",
       "534437           지각06        단어       한자어     명사\n",
       "534438          대마^난류        단어       한자어  품사 없음\n",
       "534439       노동조합^총연맹        단어       한자어  품사 없음\n",
       "\n",
       "[434870 rows x 4 columns]"
      ]
     },
     "execution_count": 3,
     "metadata": {},
     "output_type": "execute_result"
    }
   ],
   "source": [
    "df = pd.read_csv(csvfilename, index_col='target_code')\n",
    "df"
   ]
  },
  {
   "cell_type": "markdown",
   "metadata": {},
   "source": [
    "## 1.2. 데이터 요약하기"
   ]
  },
  {
   "cell_type": "code",
   "execution_count": 4,
   "metadata": {},
   "outputs": [
    {
     "data": {
      "text/plain": [
       "단어     360629\n",
       "구       62918\n",
       "속담       7436\n",
       "관용구      3887\n",
       "Name: word_unit, dtype: int64"
      ]
     },
     "execution_count": 4,
     "metadata": {},
     "output_type": "execute_result"
    }
   ],
   "source": [
    "# word_unit 칼럼의 값들을 세기"
   ]
  },
  {
   "cell_type": "code",
   "execution_count": 5,
   "metadata": {},
   "outputs": [
    {
     "data": {
      "text/plain": [
       "한자어    235445\n",
       "혼종어     88548\n",
       "고유어     75604\n",
       "외래어     23950\n",
       "Name: word_type, dtype: int64"
      ]
     },
     "execution_count": 5,
     "metadata": {},
     "output_type": "execute_result"
    }
   ],
   "source": [
    "# word_type 칼럼의 값들을 세기"
   ]
  },
  {
   "cell_type": "code",
   "execution_count": 6,
   "metadata": {},
   "outputs": [
    {
     "data": {
      "text/plain": [
       "명사        268627\n",
       "품사 없음      70562\n",
       "동사         56238\n",
       "형용사        12749\n",
       "부사         11983\n",
       "구          11323\n",
       "어미           808\n",
       "의존 명사        737\n",
       "접사           533\n",
       "감탄사          525\n",
       "대명사          272\n",
       "조사           174\n",
       "수사           163\n",
       "관형사          157\n",
       "보조 형용사        11\n",
       "보조 동사          8\n",
       "Name: pos, dtype: int64"
      ]
     },
     "execution_count": 6,
     "metadata": {},
     "output_type": "execute_result"
    }
   ],
   "source": [
    "df['pos'].value_counts()"
   ]
  },
  {
   "cell_type": "markdown",
   "metadata": {},
   "source": [
    "## 1.3. 데이터의 범위를 선택하기"
   ]
  },
  {
   "cell_type": "code",
   "execution_count": 7,
   "metadata": {},
   "outputs": [],
   "source": [
    "from collections import Counter\n",
    "import re"
   ]
  },
  {
   "cell_type": "code",
   "execution_count": 8,
   "metadata": {},
   "outputs": [
    {
     "name": "stdout",
     "output_type": "stream",
     "text": [
      "[' ', '(', ')', ',', '-', '.', '/', '0', '1', '2', '3', '4', '5', '6', '7', '8', '9', '[', ']', '^', 'ㄱ', 'ㄲ', 'ㄴ', 'ㄷ', 'ㄸ', 'ㄹ', 'ㅁ', 'ㅂ', 'ㅃ', 'ㅅ', 'ㅆ', 'ㅇ', 'ㅈ', 'ㅉ', 'ㅊ', 'ㅋ', 'ㅌ', 'ㅍ', 'ㅎ', 'ㅏ', 'ㅐ', 'ㅑ', 'ㅒ', 'ㅓ', 'ㅔ', 'ㅕ', 'ㅖ', 'ㅗ', 'ㅘ', 'ㅙ', 'ㅚ', 'ㅛ', 'ㅜ', 'ㅝ', 'ㅞ', 'ㅟ', 'ㅠ', 'ㅡ', 'ㅢ', 'ㅣ', 'ㆍ', '一', '丈', '三', '上', '下', '不', '丘', '中', '主', '之', '乙', '九', '乭', '事', '五', '亡', '亨', '人', '代', '何', '佛', '使', '俗', '倉', '倒', '假', '傷', '僉', '價', '儀', '元', '全', '兩', '八', '六', '兵', '刑', '別', '利', '動', '勢', '勸', '化', '北', '匣', '十', '千', '升', '半', '却', '口', '古', '可', '同', '吏', '吠', '告', '命', '員', '哥', '唐', '問', '善', '喪', '器', '固', '地', '堂', '場', '境', '墓', '壇', '外', '大', '天', '奉', '契', '好', '如', '子', '字', '安', '官', '害', '家', '寇', '寒', '封', '將', '尊', '層', '崇', '川', '巡', '帳', '常', '年', '床', '座', '弔', '張', '待', '後', '徐', '御', '德', '徹', '心', '忍', '志', '思', '恒', '恥', '懷', '成', '戶', '房', '所', '扁', '手', '承', '把', '捕', '摠', '播', '撻', '收', '敎', '敗', '散', '數', '文', '方', '日', '旱', '明', '星', '晩', '更', '月', '服', '朝', '木', '末', '朴', '村', '枯', '柔', '桃', '楚', '正', '殺', '母', '毛', '水', '決', '沼', '法', '泰', '浦', '海', '深', '淸', '滑', '漢', '澗', '火', '無', '燈', '營', '爵', '牌', '物', '狄', '猛', '王', '甘', '生', '産', '甫', '甲', '申', '疏', '病', '瘡', '登', '白', '百', '皮', '盒', '盞', '盤', '相', '知', '石', '社', '神', '祭', '祿', '福', '秋', '秦', '童', '笠', '紅', '紙', '經', '罷', '美', '背', '胡', '腎', '腰', '臥', '興', '苦', '茶', '草', '莫', '萍', '萬', '葬', '蔘', '藏', '蘇', '虎', '蜀', '衆', '衣', '袈', '裟', '裨', '見', '親', '觀', '角', '解', '詐', '詩', '說', '談', '變', '貞', '貢', '貴', '賞', '賤', '車', '輔', '輿', '農', '迎', '送', '道', '遷', '還', '酒', '醫', '野', '銀', '長', '門', '閉', '開', '闕', '關', '限', '陰', '陷', '陽', '雨', '雪', '雲', '霓', '霽', '靈', '面', '順', '顚', '風', '食', '餠', '馬', '驗', '驚', '骨', '高', '鵲', '鷗', '黃', '黑', '鼓', '鼠', '齒', '\\ue13d', '\\ue20c', '\\uf537', '賈', '老', '綠', '復', '不', '良', '龍', '六', '利', '離', '狀']\n"
     ]
    }
   ],
   "source": [
    "# 데이터프레임의 word 칼럼에서 na 값들을 제외하고 str 자료형으로 설정하기\n",
    "words = df.Series() # EDIT THIS LINE\n",
    "\n",
    "# 단어 목록에서 한글이 아닌 문자들이 출현한 횟수를 세기\n",
    "nonhangul_cnt = Counter() # EDIT THIS LINE\n",
    "print(sorted(nonhangul_cnt))"
   ]
  },
  {
   "cell_type": "markdown",
   "metadata": {},
   "source": [
    "위에서 살펴볼 수 있듯이 한글이 아닌 문자는 특수문자, 숫자, 한자가 대부분이지만, 여기 속하지 않는 수상한 문자도 있다."
   ]
  },
  {
   "cell_type": "code",
   "execution_count": 9,
   "metadata": {},
   "outputs": [
    {
     "name": "stdout",
     "output_type": "stream",
     "text": [
      "\n"
     ]
    }
   ],
   "source": [
    "spy = '\\ue13d'\n",
    "print(spy)"
   ]
  },
  {
   "cell_type": "markdown",
   "metadata": {},
   "source": [
    "이 문자는 HWP 워드프로세서에서 함초롱 글꼴로 볼 수 있다."
   ]
  },
  {
   "cell_type": "markdown",
   "metadata": {},
   "source": [
    "# 2. 한글 음절 분석하기"
   ]
  },
  {
   "cell_type": "markdown",
   "metadata": {},
   "source": [
    "## 2.1. 음절을 자모로 분해하기"
   ]
  },
  {
   "cell_type": "code",
   "execution_count": 10,
   "metadata": {},
   "outputs": [],
   "source": [
    "from unicodedata import name, normalize"
   ]
  },
  {
   "cell_type": "code",
   "execution_count": 11,
   "metadata": {},
   "outputs": [],
   "source": [
    "def decompose(str):\n",
    "  # 문자열을 NFKD 방식으로 정규화하기\n",
    "  return # EDIT THIS LINE"
   ]
  },
  {
   "cell_type": "code",
   "execution_count": 12,
   "metadata": {},
   "outputs": [
    {
     "name": "stdout",
     "output_type": "stream",
     "text": [
      "ㅇ HANGUL LETTER IEUNG\n",
      "ᄋ HANGUL CHOSEONG IEUNG\n",
      "ᅳ HANGUL JUNGSEONG EU\n",
      "ᆼ HANGUL JONGSEONG IEUNG\n"
     ]
    }
   ],
   "source": [
    "ng0 = 'ㅇ'\n",
    "ng1 = decompose('응')\n",
    "for ng in (ng0, ng1):\n",
    "  for char in ng:\n",
    "    print(char, name(char))"
   ]
  },
  {
   "cell_type": "code",
   "execution_count": 13,
   "metadata": {},
   "outputs": [],
   "source": [
    "def print_jamo_name(syl:str):\n",
    "  print(syl, name(syl))\n",
    "  for jamo in decompose(syl):\n",
    "    print(jamo, name(jamo))"
   ]
  },
  {
   "cell_type": "code",
   "execution_count": 14,
   "metadata": {},
   "outputs": [
    {
     "name": "stdout",
     "output_type": "stream",
     "text": [
      "뷁 HANGUL SYLLABLE BWELG\n",
      "ᄇ HANGUL CHOSEONG PIEUP\n",
      "ᅰ HANGUL JUNGSEONG WE\n",
      "ᆰ HANGUL JONGSEONG RIEUL-KIYEOK\n"
     ]
    }
   ],
   "source": [
    "print_jamo_name('뷁')"
   ]
  },
  {
   "cell_type": "code",
   "execution_count": 15,
   "metadata": {},
   "outputs": [
    {
     "name": "stdout",
     "output_type": "stream",
     "text": [
      "아 HANGUL SYLLABLE A\n",
      "ᄋ HANGUL CHOSEONG IEUNG\n",
      "ᅡ HANGUL JUNGSEONG A\n"
     ]
    }
   ],
   "source": [
    "print_jamo_name('아')"
   ]
  },
  {
   "cell_type": "code",
   "execution_count": 16,
   "metadata": {},
   "outputs": [],
   "source": [
    "def romanize(hangul):\n",
    "  # 한글 문자의 로마자 표기를 얻기\n",
    "  return # EDIT THIS LINE"
   ]
  },
  {
   "cell_type": "code",
   "execution_count": 17,
   "metadata": {},
   "outputs": [
    {
     "name": "stdout",
     "output_type": "stream",
     "text": [
      "KIYEOK\n"
     ]
    }
   ],
   "source": [
    "print(romanize('ㄱ'))"
   ]
  },
  {
   "cell_type": "code",
   "execution_count": 18,
   "metadata": {},
   "outputs": [
    {
     "name": "stdout",
     "output_type": "stream",
     "text": [
      "YI\n"
     ]
    }
   ],
   "source": [
    "print(romanize('ㅢ'))"
   ]
  },
  {
   "cell_type": "code",
   "execution_count": 19,
   "metadata": {},
   "outputs": [
    {
     "name": "stdout",
     "output_type": "stream",
     "text": [
      "OE\n"
     ]
    }
   ],
   "source": [
    "print(romanize('ㅚ'))"
   ]
  },
  {
   "cell_type": "code",
   "execution_count": 20,
   "metadata": {},
   "outputs": [
    {
     "name": "stdout",
     "output_type": "stream",
     "text": [
      "WI\n"
     ]
    }
   ],
   "source": [
    "print(romanize('ㅟ'))"
   ]
  },
  {
   "cell_type": "markdown",
   "metadata": {},
   "source": [
    "## 2.2. 음절 유형 추출하기"
   ]
  },
  {
   "cell_type": "code",
   "execution_count": 21,
   "metadata": {},
   "outputs": [],
   "source": [
    "import re"
   ]
  },
  {
   "cell_type": "code",
   "execution_count": null,
   "metadata": {},
   "outputs": [],
   "source": [
    "def is_letter(hangul):\n",
    "    # 한글 문자가 LETTER 유형이면 True, 그렇지 않으면 False를 반환하기\n",
    "    return \n",
    "\n",
    "def is_choseong(jamo):\n",
    "    # 한글 문자가 초성 유형이면 True, 그렇지 않으면 False를 반환하기\n",
    "    return\n",
    "\n",
    "def is_jungseong(jamo):\n",
    "    # 한글 문자가 중성 유형이면 True, 그렇지 않으면 False를 반환하기\n",
    "    return\n",
    "\n",
    "def is_jongseong(jamo):\n",
    "    # 한글 문자가 종성 유형이면 True, 그렇지 않으면 False를 반환하기\n",
    "    return"
   ]
  },
  {
   "cell_type": "code",
   "execution_count": null,
   "metadata": {},
   "outputs": [],
   "source": [
    "def get_onset_type(jamo):\n",
    "  # LETTER 혹은 초성 유형의 문자의 유형을 반환하기\n",
    "  # 자음 음가가 있으면 'C', 그렇지 않으면 ''를 반환하기\n",
    "  return"
   ]
  },
  {
   "cell_type": "code",
   "execution_count": null,
   "metadata": {},
   "outputs": [],
   "source": [
    "GLIDES = re.compile(r'[WY]')"
   ]
  },
  {
   "cell_type": "code",
   "execution_count": null,
   "metadata": {},
   "outputs": [],
   "source": [
    "def get_nucleus_type(jamo):\n",
    "  # LETTER 혹은 중성 유형의 문자의 유형을 반환하기\n",
    "  # 단모음이면 'V', 활음이 있으면 'GV'를 반환하기\n",
    "  return"
   ]
  },
  {
   "cell_type": "code",
   "execution_count": null,
   "metadata": {},
   "outputs": [],
   "source": [
    "def get_coda_type(jamo):\n",
    "  # LETTER 혹은 종성 유형의 문자의 유형을 반환하기\n",
    "  # 단자음이면 'C', 겹자음이면 'CC'를 반환하기\n",
    "  return\n"
   ]
  },
  {
   "cell_type": "code",
   "execution_count": null,
   "metadata": {},
   "outputs": [],
   "source": [
    "def is_composed_syllable(char):\n",
    "  # 주어진 문자가 한글 1음절이면 True, 그렇지 않으면 False를 반환하는 함수\n",
    "  return"
   ]
  },
  {
   "cell_type": "code",
   "execution_count": null,
   "metadata": {},
   "outputs": [
    {
     "name": "stdout",
     "output_type": "stream",
     "text": [
      "True\n",
      "False\n"
     ]
    }
   ],
   "source": [
    "print(is_composed_syllable('앍'))\n",
    "print(is_composed_syllable('ㅇ'))"
   ]
  },
  {
   "cell_type": "code",
   "execution_count": null,
   "metadata": {},
   "outputs": [
    {
     "ename": "ValueError",
     "evalue": "no such name",
     "output_type": "error",
     "traceback": [
      "\u001b[0;31m---------------------------------------------------------------------------\u001b[0m",
      "\u001b[0;31mValueError\u001b[0m                                Traceback (most recent call last)",
      "\u001b[1;32m/home/medinfo/Documents/LDS2023/notes/17-20231106-counting-syllable-types.ipynb Cell 29\u001b[0m line \u001b[0;36m1\n\u001b[0;32m----> <a href='vscode-notebook-cell:/home/medinfo/Documents/LDS2023/notes/17-20231106-counting-syllable-types.ipynb#X56sZmlsZQ%3D%3D?line=0'>1</a>\u001b[0m \u001b[39mprint\u001b[39m(is_composed_syllable(spy))\n",
      "\u001b[1;32m/home/medinfo/Documents/LDS2023/notes/17-20231106-counting-syllable-types.ipynb Cell 29\u001b[0m line \u001b[0;36m2\n\u001b[1;32m      <a href='vscode-notebook-cell:/home/medinfo/Documents/LDS2023/notes/17-20231106-counting-syllable-types.ipynb#X56sZmlsZQ%3D%3D?line=0'>1</a>\u001b[0m \u001b[39mdef\u001b[39;00m \u001b[39mis_composed_syllable\u001b[39m(char):\n\u001b[0;32m----> <a href='vscode-notebook-cell:/home/medinfo/Documents/LDS2023/notes/17-20231106-counting-syllable-types.ipynb#X56sZmlsZQ%3D%3D?line=1'>2</a>\u001b[0m   \u001b[39mreturn\u001b[39;00m name(char)\u001b[39m.\u001b[39mstartswith(\u001b[39m'\u001b[39m\u001b[39mHANGUL SYLLABLE\u001b[39m\u001b[39m'\u001b[39m)\n",
      "\u001b[0;31mValueError\u001b[0m: no such name"
     ]
    }
   ],
   "source": [
    "print(is_composed_syllable(spy))"
   ]
  },
  {
   "cell_type": "code",
   "execution_count": null,
   "metadata": {},
   "outputs": [],
   "source": [
    "def is_syllable(strings):\n",
    "  # 주어진 문자열로 한글 1음절을 구성할 수 있으면 True, 그렇지 않으면 False를 반환하는 함수"
   ]
  },
  {
   "cell_type": "code",
   "execution_count": null,
   "metadata": {},
   "outputs": [
    {
     "name": "stdout",
     "output_type": "stream",
     "text": [
      "False\n",
      "True\n",
      "True\n"
     ]
    }
   ],
   "source": [
    "print(is_syllable('ㅇ'))\n",
    "print(is_syllable('앍'))\n",
    "print(is_syllable(decompose('앍')))"
   ]
  },
  {
   "cell_type": "code",
   "execution_count": null,
   "metadata": {},
   "outputs": [
    {
     "name": "stdout",
     "output_type": "stream",
     "text": [
      "False\n"
     ]
    }
   ],
   "source": [
    "print(is_syllable(spy))"
   ]
  },
  {
   "cell_type": "code",
   "execution_count": null,
   "metadata": {},
   "outputs": [
    {
     "data": {
      "text/plain": [
       "'ᆰ'"
      ]
     },
     "execution_count": 33,
     "metadata": {},
     "output_type": "execute_result"
    }
   ],
   "source": [
    "syl = '꺍'\n",
    "dec = decompose(syl)\n",
    "onset, nucleus = ('', '') # EDIT THIS LINE\n",
    "coda = ''  # EDIT THIS LINE"
   ]
  },
  {
   "cell_type": "code",
   "execution_count": null,
   "metadata": {},
   "outputs": [],
   "source": [
    "def get_syllable_type(syl):\n",
    "  # 한글 음절 문자열을 받아서 CVC 등 음절 유형을 반환하는 함수\n",
    "  return "
   ]
  },
  {
   "cell_type": "code",
   "execution_count": null,
   "metadata": {},
   "outputs": [
    {
     "data": {
      "text/plain": [
       "'CGVCC'"
      ]
     },
     "execution_count": 35,
     "metadata": {},
     "output_type": "execute_result"
    }
   ],
   "source": [
    "get_syllable_type(syl)"
   ]
  },
  {
   "cell_type": "code",
   "execution_count": null,
   "metadata": {},
   "outputs": [],
   "source": [
    "def get_syllable_types(string):\n",
    "    # 문자열을 받아서 각 한글 문자들의 음절 유형으로 이루어진 튜플을 반환하는 함수\n",
    "    return "
   ]
  },
  {
   "cell_type": "code",
   "execution_count": null,
   "metadata": {},
   "outputs": [
    {
     "data": {
      "text/plain": [
       "('GVCC', 'VC')"
      ]
     },
     "execution_count": 37,
     "metadata": {},
     "output_type": "execute_result"
    }
   ],
   "source": [
    "get_syllable_types('얇은')"
   ]
  },
  {
   "cell_type": "markdown",
   "metadata": {},
   "source": [
    "# 3. 표준국어대사전 표제어 단어들의 음절 유형 추출하기"
   ]
  },
  {
   "cell_type": "code",
   "execution_count": null,
   "metadata": {},
   "outputs": [
    {
     "data": {
      "text/html": [
       "<div>\n",
       "<style scoped>\n",
       "    .dataframe tbody tr th:only-of-type {\n",
       "        vertical-align: middle;\n",
       "    }\n",
       "\n",
       "    .dataframe tbody tr th {\n",
       "        vertical-align: top;\n",
       "    }\n",
       "\n",
       "    .dataframe thead th {\n",
       "        text-align: right;\n",
       "    }\n",
       "</style>\n",
       "<table border=\"1\" class=\"dataframe\">\n",
       "  <thead>\n",
       "    <tr style=\"text-align: right;\">\n",
       "      <th></th>\n",
       "      <th>word</th>\n",
       "      <th>word_unit</th>\n",
       "      <th>word_type</th>\n",
       "      <th>pos</th>\n",
       "      <th>syllable_types</th>\n",
       "    </tr>\n",
       "    <tr>\n",
       "      <th>target_code</th>\n",
       "      <th></th>\n",
       "      <th></th>\n",
       "      <th></th>\n",
       "      <th></th>\n",
       "      <th></th>\n",
       "    </tr>\n",
       "  </thead>\n",
       "  <tbody>\n",
       "    <tr>\n",
       "      <th>1</th>\n",
       "      <td>가경-지</td>\n",
       "      <td>단어</td>\n",
       "      <td>한자어</td>\n",
       "      <td>명사</td>\n",
       "      <td>(CV, CGVC, CV)</td>\n",
       "    </tr>\n",
       "    <tr>\n",
       "      <th>2</th>\n",
       "      <td>가계-하다01</td>\n",
       "      <td>단어</td>\n",
       "      <td>혼종어</td>\n",
       "      <td>동사</td>\n",
       "      <td>(CV, CGV, CV, CV)</td>\n",
       "    </tr>\n",
       "    <tr>\n",
       "      <th>3</th>\n",
       "      <td>가계02</td>\n",
       "      <td>단어</td>\n",
       "      <td>한자어</td>\n",
       "      <td>명사</td>\n",
       "      <td>(CV, CGV)</td>\n",
       "    </tr>\n",
       "    <tr>\n",
       "      <th>4</th>\n",
       "      <td>가계-되다</td>\n",
       "      <td>단어</td>\n",
       "      <td>혼종어</td>\n",
       "      <td>동사</td>\n",
       "      <td>(CV, CGV, CGV, CV)</td>\n",
       "    </tr>\n",
       "    <tr>\n",
       "      <th>5</th>\n",
       "      <td>가계-하다03</td>\n",
       "      <td>단어</td>\n",
       "      <td>혼종어</td>\n",
       "      <td>동사</td>\n",
       "      <td>(CV, CGV, CV, CV)</td>\n",
       "    </tr>\n",
       "    <tr>\n",
       "      <th>...</th>\n",
       "      <td>...</td>\n",
       "      <td>...</td>\n",
       "      <td>...</td>\n",
       "      <td>...</td>\n",
       "      <td>...</td>\n",
       "    </tr>\n",
       "    <tr>\n",
       "      <th>534435</th>\n",
       "      <td>지체^장애</td>\n",
       "      <td>구</td>\n",
       "      <td>한자어</td>\n",
       "      <td>품사 없음</td>\n",
       "      <td>(CV, CV, CVC, V)</td>\n",
       "    </tr>\n",
       "    <tr>\n",
       "      <th>534436</th>\n",
       "      <td>신체^장애인</td>\n",
       "      <td>구</td>\n",
       "      <td>한자어</td>\n",
       "      <td>품사 없음</td>\n",
       "      <td>(CVC, CV, CVC, V, VC)</td>\n",
       "    </tr>\n",
       "    <tr>\n",
       "      <th>534437</th>\n",
       "      <td>지각06</td>\n",
       "      <td>단어</td>\n",
       "      <td>한자어</td>\n",
       "      <td>명사</td>\n",
       "      <td>(CV, CVC)</td>\n",
       "    </tr>\n",
       "    <tr>\n",
       "      <th>534438</th>\n",
       "      <td>대마^난류</td>\n",
       "      <td>단어</td>\n",
       "      <td>한자어</td>\n",
       "      <td>품사 없음</td>\n",
       "      <td>(CV, CV, CVC, CGV)</td>\n",
       "    </tr>\n",
       "    <tr>\n",
       "      <th>534439</th>\n",
       "      <td>노동조합^총연맹</td>\n",
       "      <td>단어</td>\n",
       "      <td>한자어</td>\n",
       "      <td>품사 없음</td>\n",
       "      <td>(CV, CVC, CV, CVC, CVC, GVC, CVC)</td>\n",
       "    </tr>\n",
       "  </tbody>\n",
       "</table>\n",
       "<p>434870 rows × 5 columns</p>\n",
       "</div>"
      ],
      "text/plain": [
       "                 word word_unit word_type    pos  \\\n",
       "target_code                                        \n",
       "1                가경-지        단어       한자어     명사   \n",
       "2             가계-하다01        단어       혼종어     동사   \n",
       "3                가계02        단어       한자어     명사   \n",
       "4               가계-되다        단어       혼종어     동사   \n",
       "5             가계-하다03        단어       혼종어     동사   \n",
       "...               ...       ...       ...    ...   \n",
       "534435          지체^장애         구       한자어  품사 없음   \n",
       "534436         신체^장애인         구       한자어  품사 없음   \n",
       "534437           지각06        단어       한자어     명사   \n",
       "534438          대마^난류        단어       한자어  품사 없음   \n",
       "534439       노동조합^총연맹        단어       한자어  품사 없음   \n",
       "\n",
       "                                syllable_types  \n",
       "target_code                                     \n",
       "1                               (CV, CGVC, CV)  \n",
       "2                            (CV, CGV, CV, CV)  \n",
       "3                                    (CV, CGV)  \n",
       "4                           (CV, CGV, CGV, CV)  \n",
       "5                            (CV, CGV, CV, CV)  \n",
       "...                                        ...  \n",
       "534435                        (CV, CV, CVC, V)  \n",
       "534436                   (CVC, CV, CVC, V, VC)  \n",
       "534437                               (CV, CVC)  \n",
       "534438                      (CV, CV, CVC, CGV)  \n",
       "534439       (CV, CVC, CV, CVC, CVC, GVC, CVC)  \n",
       "\n",
       "[434870 rows x 5 columns]"
      ]
     },
     "execution_count": 38,
     "metadata": {},
     "output_type": "execute_result"
    }
   ],
   "source": [
    "df['syllable_types'] = None # EDIT THIS LINE\n",
    "df"
   ]
  },
  {
   "cell_type": "code",
   "execution_count": null,
   "metadata": {},
   "outputs": [
    {
     "data": {
      "text/html": [
       "<div>\n",
       "<style scoped>\n",
       "    .dataframe tbody tr th:only-of-type {\n",
       "        vertical-align: middle;\n",
       "    }\n",
       "\n",
       "    .dataframe tbody tr th {\n",
       "        vertical-align: top;\n",
       "    }\n",
       "\n",
       "    .dataframe thead th {\n",
       "        text-align: right;\n",
       "    }\n",
       "</style>\n",
       "<table border=\"1\" class=\"dataframe\">\n",
       "  <thead>\n",
       "    <tr style=\"text-align: right;\">\n",
       "      <th></th>\n",
       "      <th>word</th>\n",
       "      <th>word_unit</th>\n",
       "      <th>word_type</th>\n",
       "      <th>pos</th>\n",
       "      <th>syllable_types</th>\n",
       "    </tr>\n",
       "    <tr>\n",
       "      <th>target_code</th>\n",
       "      <th></th>\n",
       "      <th></th>\n",
       "      <th></th>\n",
       "      <th></th>\n",
       "      <th></th>\n",
       "    </tr>\n",
       "  </thead>\n",
       "  <tbody>\n",
       "    <tr>\n",
       "      <th>1</th>\n",
       "      <td>가경-지</td>\n",
       "      <td>단어</td>\n",
       "      <td>한자어</td>\n",
       "      <td>명사</td>\n",
       "      <td>CV</td>\n",
       "    </tr>\n",
       "    <tr>\n",
       "      <th>1</th>\n",
       "      <td>가경-지</td>\n",
       "      <td>단어</td>\n",
       "      <td>한자어</td>\n",
       "      <td>명사</td>\n",
       "      <td>CGVC</td>\n",
       "    </tr>\n",
       "    <tr>\n",
       "      <th>1</th>\n",
       "      <td>가경-지</td>\n",
       "      <td>단어</td>\n",
       "      <td>한자어</td>\n",
       "      <td>명사</td>\n",
       "      <td>CV</td>\n",
       "    </tr>\n",
       "    <tr>\n",
       "      <th>3</th>\n",
       "      <td>가계02</td>\n",
       "      <td>단어</td>\n",
       "      <td>한자어</td>\n",
       "      <td>명사</td>\n",
       "      <td>CV</td>\n",
       "    </tr>\n",
       "    <tr>\n",
       "      <th>3</th>\n",
       "      <td>가계02</td>\n",
       "      <td>단어</td>\n",
       "      <td>한자어</td>\n",
       "      <td>명사</td>\n",
       "      <td>CGV</td>\n",
       "    </tr>\n",
       "    <tr>\n",
       "      <th>...</th>\n",
       "      <td>...</td>\n",
       "      <td>...</td>\n",
       "      <td>...</td>\n",
       "      <td>...</td>\n",
       "      <td>...</td>\n",
       "    </tr>\n",
       "    <tr>\n",
       "      <th>534432</th>\n",
       "      <td>기본-율</td>\n",
       "      <td>단어</td>\n",
       "      <td>한자어</td>\n",
       "      <td>명사</td>\n",
       "      <td>CV</td>\n",
       "    </tr>\n",
       "    <tr>\n",
       "      <th>534432</th>\n",
       "      <td>기본-율</td>\n",
       "      <td>단어</td>\n",
       "      <td>한자어</td>\n",
       "      <td>명사</td>\n",
       "      <td>CVC</td>\n",
       "    </tr>\n",
       "    <tr>\n",
       "      <th>534432</th>\n",
       "      <td>기본-율</td>\n",
       "      <td>단어</td>\n",
       "      <td>한자어</td>\n",
       "      <td>명사</td>\n",
       "      <td>GVC</td>\n",
       "    </tr>\n",
       "    <tr>\n",
       "      <th>534437</th>\n",
       "      <td>지각06</td>\n",
       "      <td>단어</td>\n",
       "      <td>한자어</td>\n",
       "      <td>명사</td>\n",
       "      <td>CV</td>\n",
       "    </tr>\n",
       "    <tr>\n",
       "      <th>534437</th>\n",
       "      <td>지각06</td>\n",
       "      <td>단어</td>\n",
       "      <td>한자어</td>\n",
       "      <td>명사</td>\n",
       "      <td>CVC</td>\n",
       "    </tr>\n",
       "  </tbody>\n",
       "</table>\n",
       "<p>774916 rows × 5 columns</p>\n",
       "</div>"
      ],
      "text/plain": [
       "             word word_unit word_type pos syllable_types\n",
       "target_code                                             \n",
       "1            가경-지        단어       한자어  명사             CV\n",
       "1            가경-지        단어       한자어  명사           CGVC\n",
       "1            가경-지        단어       한자어  명사             CV\n",
       "3            가계02        단어       한자어  명사             CV\n",
       "3            가계02        단어       한자어  명사            CGV\n",
       "...           ...       ...       ...  ..            ...\n",
       "534432       기본-율        단어       한자어  명사             CV\n",
       "534432       기본-율        단어       한자어  명사            CVC\n",
       "534432       기본-율        단어       한자어  명사            GVC\n",
       "534437       지각06        단어       한자어  명사             CV\n",
       "534437       지각06        단어       한자어  명사            CVC\n",
       "\n",
       "[774916 rows x 5 columns]"
      ]
     },
     "execution_count": 39,
     "metadata": {},
     "output_type": "execute_result"
    }
   ],
   "source": [
    "# 품사가 명사인 단어만 따로 저장하기\n",
    "nouns_syllables = pd.DataFrame() # EDIT THIS LINE\n",
    "nouns_syllables"
   ]
  },
  {
   "cell_type": "code",
   "execution_count": null,
   "metadata": {},
   "outputs": [
    {
     "data": {
      "text/plain": [
       "CVC     307552\n",
       "CV      276999\n",
       "CGVC     44232\n",
       "CGV      34491\n",
       "VC       33698\n",
       "V        31814\n",
       "GVC      26172\n",
       "GV       18753\n",
       "CVCC      1032\n",
       "VCC        127\n",
       "GVCC         4\n",
       "Name: syllable_types, dtype: int64"
      ]
     },
     "execution_count": 40,
     "metadata": {},
     "output_type": "execute_result"
    }
   ],
   "source": [
    "# 음절 유형의 분포를 세어보기"
   ]
  },
  {
   "cell_type": "code",
   "execution_count": null,
   "metadata": {},
   "outputs": [
    {
     "data": {
      "text/html": [
       "<div>\n",
       "<style scoped>\n",
       "    .dataframe tbody tr th:only-of-type {\n",
       "        vertical-align: middle;\n",
       "    }\n",
       "\n",
       "    .dataframe tbody tr th {\n",
       "        vertical-align: top;\n",
       "    }\n",
       "\n",
       "    .dataframe thead th {\n",
       "        text-align: right;\n",
       "    }\n",
       "</style>\n",
       "<table border=\"1\" class=\"dataframe\">\n",
       "  <thead>\n",
       "    <tr style=\"text-align: right;\">\n",
       "      <th>syllable_types</th>\n",
       "      <th>CGV</th>\n",
       "      <th>CGVC</th>\n",
       "      <th>CV</th>\n",
       "      <th>CVC</th>\n",
       "      <th>CVCC</th>\n",
       "      <th>GV</th>\n",
       "      <th>GVC</th>\n",
       "      <th>GVCC</th>\n",
       "      <th>V</th>\n",
       "      <th>VC</th>\n",
       "      <th>VCC</th>\n",
       "    </tr>\n",
       "    <tr>\n",
       "      <th>word_type</th>\n",
       "      <th></th>\n",
       "      <th></th>\n",
       "      <th></th>\n",
       "      <th></th>\n",
       "      <th></th>\n",
       "      <th></th>\n",
       "      <th></th>\n",
       "      <th></th>\n",
       "      <th></th>\n",
       "      <th></th>\n",
       "      <th></th>\n",
       "    </tr>\n",
       "  </thead>\n",
       "  <tbody>\n",
       "    <tr>\n",
       "      <th>고유어</th>\n",
       "      <td>3100</td>\n",
       "      <td>2356</td>\n",
       "      <td>47855</td>\n",
       "      <td>48261</td>\n",
       "      <td>727</td>\n",
       "      <td>1156</td>\n",
       "      <td>963</td>\n",
       "      <td>4</td>\n",
       "      <td>6945</td>\n",
       "      <td>4979</td>\n",
       "      <td>98</td>\n",
       "    </tr>\n",
       "    <tr>\n",
       "      <th>외래어</th>\n",
       "      <td>1335</td>\n",
       "      <td>642</td>\n",
       "      <td>46011</td>\n",
       "      <td>13883</td>\n",
       "      <td>1</td>\n",
       "      <td>891</td>\n",
       "      <td>290</td>\n",
       "      <td>0</td>\n",
       "      <td>8513</td>\n",
       "      <td>2716</td>\n",
       "      <td>0</td>\n",
       "    </tr>\n",
       "    <tr>\n",
       "      <th>한자어</th>\n",
       "      <td>26457</td>\n",
       "      <td>37712</td>\n",
       "      <td>146582</td>\n",
       "      <td>204084</td>\n",
       "      <td>0</td>\n",
       "      <td>15390</td>\n",
       "      <td>22522</td>\n",
       "      <td>0</td>\n",
       "      <td>10984</td>\n",
       "      <td>22281</td>\n",
       "      <td>0</td>\n",
       "    </tr>\n",
       "    <tr>\n",
       "      <th>혼종어</th>\n",
       "      <td>3599</td>\n",
       "      <td>3522</td>\n",
       "      <td>36551</td>\n",
       "      <td>41324</td>\n",
       "      <td>304</td>\n",
       "      <td>1316</td>\n",
       "      <td>2397</td>\n",
       "      <td>0</td>\n",
       "      <td>5372</td>\n",
       "      <td>3722</td>\n",
       "      <td>29</td>\n",
       "    </tr>\n",
       "  </tbody>\n",
       "</table>\n",
       "</div>"
      ],
      "text/plain": [
       "syllable_types    CGV   CGVC      CV     CVC  CVCC     GV    GVC  GVCC      V  \\\n",
       "word_type                                                                       \n",
       "고유어              3100   2356   47855   48261   727   1156    963     4   6945   \n",
       "외래어              1335    642   46011   13883     1    891    290     0   8513   \n",
       "한자어             26457  37712  146582  204084     0  15390  22522     0  10984   \n",
       "혼종어              3599   3522   36551   41324   304   1316   2397     0   5372   \n",
       "\n",
       "syllable_types     VC  VCC  \n",
       "word_type                   \n",
       "고유어              4979   98  \n",
       "외래어              2716    0  \n",
       "한자어             22281    0  \n",
       "혼종어              3722   29  "
      ]
     },
     "execution_count": 41,
     "metadata": {},
     "output_type": "execute_result"
    }
   ],
   "source": [
    "# 음절 유형의 분포를 단어 유형별로 각기 계산하기\n",
    "table = pd.DataFrame() # EDIT THIS LINE\n",
    "table"
   ]
  },
  {
   "cell_type": "code",
   "execution_count": null,
   "metadata": {},
   "outputs": [
    {
     "data": {
      "text/html": [
       "<div>\n",
       "<style scoped>\n",
       "    .dataframe tbody tr th:only-of-type {\n",
       "        vertical-align: middle;\n",
       "    }\n",
       "\n",
       "    .dataframe tbody tr th {\n",
       "        vertical-align: top;\n",
       "    }\n",
       "\n",
       "    .dataframe thead th {\n",
       "        text-align: right;\n",
       "    }\n",
       "</style>\n",
       "<table border=\"1\" class=\"dataframe\">\n",
       "  <thead>\n",
       "    <tr style=\"text-align: right;\">\n",
       "      <th>syllable_types</th>\n",
       "      <th>CGV</th>\n",
       "      <th>CGVC</th>\n",
       "      <th>CV</th>\n",
       "      <th>CVC</th>\n",
       "      <th>CVCC</th>\n",
       "      <th>GV</th>\n",
       "      <th>GVC</th>\n",
       "      <th>GVCC</th>\n",
       "      <th>V</th>\n",
       "      <th>VC</th>\n",
       "      <th>VCC</th>\n",
       "    </tr>\n",
       "    <tr>\n",
       "      <th>word_type</th>\n",
       "      <th></th>\n",
       "      <th></th>\n",
       "      <th></th>\n",
       "      <th></th>\n",
       "      <th></th>\n",
       "      <th></th>\n",
       "      <th></th>\n",
       "      <th></th>\n",
       "      <th></th>\n",
       "      <th></th>\n",
       "      <th></th>\n",
       "    </tr>\n",
       "  </thead>\n",
       "  <tbody>\n",
       "    <tr>\n",
       "      <th>고유어</th>\n",
       "      <td>2.662224</td>\n",
       "      <td>2.023290</td>\n",
       "      <td>41.097008</td>\n",
       "      <td>41.445673</td>\n",
       "      <td>0.624334</td>\n",
       "      <td>0.992752</td>\n",
       "      <td>0.827007</td>\n",
       "      <td>0.003435</td>\n",
       "      <td>5.964240</td>\n",
       "      <td>4.275875</td>\n",
       "      <td>0.084161</td>\n",
       "    </tr>\n",
       "    <tr>\n",
       "      <th>외래어</th>\n",
       "      <td>1.797205</td>\n",
       "      <td>0.864274</td>\n",
       "      <td>61.940982</td>\n",
       "      <td>18.689588</td>\n",
       "      <td>0.001346</td>\n",
       "      <td>1.199483</td>\n",
       "      <td>0.390404</td>\n",
       "      <td>0.000000</td>\n",
       "      <td>11.460381</td>\n",
       "      <td>3.656337</td>\n",
       "      <td>0.000000</td>\n",
       "    </tr>\n",
       "    <tr>\n",
       "      <th>한자어</th>\n",
       "      <td>5.443693</td>\n",
       "      <td>7.759479</td>\n",
       "      <td>30.160161</td>\n",
       "      <td>41.991556</td>\n",
       "      <td>0.000000</td>\n",
       "      <td>3.166588</td>\n",
       "      <td>4.634042</td>\n",
       "      <td>0.000000</td>\n",
       "      <td>2.260027</td>\n",
       "      <td>4.584455</td>\n",
       "      <td>0.000000</td>\n",
       "    </tr>\n",
       "    <tr>\n",
       "      <th>혼종어</th>\n",
       "      <td>3.667360</td>\n",
       "      <td>3.588897</td>\n",
       "      <td>37.245251</td>\n",
       "      <td>42.108910</td>\n",
       "      <td>0.309774</td>\n",
       "      <td>1.340996</td>\n",
       "      <td>2.442529</td>\n",
       "      <td>0.000000</td>\n",
       "      <td>5.474036</td>\n",
       "      <td>3.792696</td>\n",
       "      <td>0.029551</td>\n",
       "    </tr>\n",
       "  </tbody>\n",
       "</table>\n",
       "</div>"
      ],
      "text/plain": [
       "syllable_types       CGV      CGVC         CV        CVC      CVCC        GV  \\\n",
       "word_type                                                                      \n",
       "고유어             2.662224  2.023290  41.097008  41.445673  0.624334  0.992752   \n",
       "외래어             1.797205  0.864274  61.940982  18.689588  0.001346  1.199483   \n",
       "한자어             5.443693  7.759479  30.160161  41.991556  0.000000  3.166588   \n",
       "혼종어             3.667360  3.588897  37.245251  42.108910  0.309774  1.340996   \n",
       "\n",
       "syllable_types       GVC      GVCC          V        VC       VCC  \n",
       "word_type                                                          \n",
       "고유어             0.827007  0.003435   5.964240  4.275875  0.084161  \n",
       "외래어             0.390404  0.000000  11.460381  3.656337  0.000000  \n",
       "한자어             4.634042  0.000000   2.260027  4.584455  0.000000  \n",
       "혼종어             2.442529  0.000000   5.474036  3.792696  0.029551  "
      ]
     },
     "execution_count": 42,
     "metadata": {},
     "output_type": "execute_result"
    }
   ],
   "source": [
    "# 단어 유형별 음절 유형의 출현 빈도를 백분율로 표현하기\n",
    "table.apply(lambda x: x) # EDIT THIS LINEs"
   ]
  }
 ],
 "metadata": {
  "kernelspec": {
   "display_name": "Python 3",
   "language": "python",
   "name": "python3"
  },
  "language_info": {
   "codemirror_mode": {
    "name": "ipython",
    "version": 3
   },
   "file_extension": ".py",
   "mimetype": "text/x-python",
   "name": "python",
   "nbconvert_exporter": "python",
   "pygments_lexer": "ipython3",
   "version": "3.8.13"
  }
 },
 "nbformat": 4,
 "nbformat_minor": 2
}
