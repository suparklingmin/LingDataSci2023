{
 "cells": [
  {
   "cell_type": "markdown",
   "metadata": {},
   "source": [
    "# 2023-2 언어데이터과학 24강 (2023-11-29) 실습 (1) `gensim` 패키지와 Word2Vec 모델 훈련\n",
    "\n",
    "## 오늘의 목표\n",
    "\n",
    "1. 모두의 말뭉치 '온라인 대화 말뭉치'의 발화 자료로 Word2Vec Skip-gram 모델을 훈련시킬 수 있다.\n",
    "2. 단어 사이의 의미 유사성을 벡터들의 코사인 유사도로 계량화하여 설명할 수 있다.\n",
    "3. t-SNE 기법을 사용하여 단어 벡터들을 2차원 평면에 시각화할 수 있다.\n",
    "4. Word2Vec 모델을 사용하여 연령대에 따른 단어의 분포 변화를 추적할 수 있다."
   ]
  },
  {
   "cell_type": "markdown",
   "metadata": {},
   "source": [
    "## 0. 준비"
   ]
  },
  {
   "cell_type": "markdown",
   "metadata": {},
   "source": [
    "### 파이썬 모듈 설치하기\n",
    "\n",
    "Python에서 Word2Vec 모델을 사용하기 위해서는 `gensim` 모듈이 필요하다."
   ]
  },
  {
   "cell_type": "code",
   "execution_count": 1,
   "metadata": {},
   "outputs": [
    {
     "name": "stdout",
     "output_type": "stream",
     "text": [
      "Requirement already satisfied: gensim in /usr/local/python/3.10.8/lib/python3.10/site-packages (4.3.2)\n",
      "Requirement already satisfied: numpy>=1.18.5 in /home/codespace/.local/lib/python3.10/site-packages (from gensim) (1.26.0)\n",
      "Requirement already satisfied: scipy>=1.7.0 in /home/codespace/.local/lib/python3.10/site-packages (from gensim) (1.11.3)\n",
      "Requirement already satisfied: smart-open>=1.8.1 in /usr/local/python/3.10.8/lib/python3.10/site-packages (from gensim) (6.4.0)\n",
      "Note: you may need to restart the kernel to use updated packages.\n"
     ]
    }
   ],
   "source": [
    "%pip install gensim"
   ]
  },
  {
   "cell_type": "markdown",
   "metadata": {},
   "source": [
    "## 1. 데이터 가공\n",
    "\n",
    "12–15강에서 만든 모두의 말뭉치 [온라인 대화 말뭉치] 파일을 읽고 `gensim` 모듈에서 사용 가능한 코퍼스로 가공하자."
   ]
  },
  {
   "cell_type": "code",
   "execution_count": 2,
   "metadata": {},
   "outputs": [],
   "source": [
    "import pandas as pd\n",
    "from gensim.models import Word2Vec\n",
    "from tqdm import tqdm"
   ]
  },
  {
   "cell_type": "markdown",
   "metadata": {},
   "source": [
    "### 데이터 파일 읽기"
   ]
  },
  {
   "cell_type": "code",
   "execution_count": 3,
   "metadata": {},
   "outputs": [],
   "source": [
    "DATA_PATH = '../data/NIKL_OM_form_age_sex.csv.tar.gz'"
   ]
  },
  {
   "cell_type": "code",
   "execution_count": 4,
   "metadata": {},
   "outputs": [
    {
     "data": {
      "text/html": [
       "<div>\n",
       "<style scoped>\n",
       "    .dataframe tbody tr th:only-of-type {\n",
       "        vertical-align: middle;\n",
       "    }\n",
       "\n",
       "    .dataframe tbody tr th {\n",
       "        vertical-align: top;\n",
       "    }\n",
       "\n",
       "    .dataframe thead th {\n",
       "        text-align: right;\n",
       "    }\n",
       "</style>\n",
       "<table border=\"1\" class=\"dataframe\">\n",
       "  <thead>\n",
       "    <tr style=\"text-align: right;\">\n",
       "      <th></th>\n",
       "      <th>data/NIKL_OM_form_age_sex.csv</th>\n",
       "      <th>form</th>\n",
       "      <th>speaker_id</th>\n",
       "      <th>age</th>\n",
       "      <th>sex</th>\n",
       "    </tr>\n",
       "  </thead>\n",
       "  <tbody>\n",
       "    <tr>\n",
       "      <th>0</th>\n",
       "      <td>MDRW2100000001.1.1</td>\n",
       "      <td>안녕하세요</td>\n",
       "      <td>MDRW2100000001_1</td>\n",
       "      <td>20대</td>\n",
       "      <td>여성</td>\n",
       "    </tr>\n",
       "    <tr>\n",
       "      <th>1</th>\n",
       "      <td>MDRW2100000001.1.4</td>\n",
       "      <td>이거 해봐요&gt;&lt;</td>\n",
       "      <td>MDRW2100000001_1</td>\n",
       "      <td>20대</td>\n",
       "      <td>여성</td>\n",
       "    </tr>\n",
       "    <tr>\n",
       "      <th>2</th>\n",
       "      <td>MDRW2100000001.1.7</td>\n",
       "      <td>오 ㅋㅋㅋㅋㅋㅋㅋㅋㅋㅋ</td>\n",
       "      <td>MDRW2100000001_1</td>\n",
       "      <td>20대</td>\n",
       "      <td>여성</td>\n",
       "    </tr>\n",
       "    <tr>\n",
       "      <th>3</th>\n",
       "      <td>MDRW2100000001.1.8</td>\n",
       "      <td>안챙겨도 잘커요</td>\n",
       "      <td>MDRW2100000001_1</td>\n",
       "      <td>20대</td>\n",
       "      <td>여성</td>\n",
       "    </tr>\n",
       "    <tr>\n",
       "      <th>4</th>\n",
       "      <td>MDRW2100000001.1.9</td>\n",
       "      <td>너무 맞는데요ㅜㅜ?</td>\n",
       "      <td>MDRW2100000001_1</td>\n",
       "      <td>20대</td>\n",
       "      <td>여성</td>\n",
       "    </tr>\n",
       "    <tr>\n",
       "      <th>...</th>\n",
       "      <td>...</td>\n",
       "      <td>...</td>\n",
       "      <td>...</td>\n",
       "      <td>...</td>\n",
       "      <td>...</td>\n",
       "    </tr>\n",
       "    <tr>\n",
       "      <th>2977836</th>\n",
       "      <td>MMRW2100000241.1.2775</td>\n",
       "      <td>한 번도 안 써봄...?</td>\n",
       "      <td>MMRW2100000241_2</td>\n",
       "      <td>20대</td>\n",
       "      <td>여성</td>\n",
       "    </tr>\n",
       "    <tr>\n",
       "      <th>2977837</th>\n",
       "      <td>MMRW2100000241.1.2776</td>\n",
       "      <td>그거 개꿀인디</td>\n",
       "      <td>MMRW2100000241_2</td>\n",
       "      <td>20대</td>\n",
       "      <td>여성</td>\n",
       "    </tr>\n",
       "    <tr>\n",
       "      <th>2977838</th>\n",
       "      <td>MMRW2100000241.1.2780</td>\n",
       "      <td>ㅋㅋㅋㅋㅋㅋ잠수복 개귀여웤ㅋㅋㅋㅋ</td>\n",
       "      <td>MMRW2100000241_2</td>\n",
       "      <td>20대</td>\n",
       "      <td>여성</td>\n",
       "    </tr>\n",
       "    <tr>\n",
       "      <th>2977839</th>\n",
       "      <td>MMRW2100000241.1.2786</td>\n",
       "      <td>ㅋㅋㅋㅋㅋㅋㅋㅋㅋㅋㅋㅋㅋ가즈아!</td>\n",
       "      <td>MMRW2100000241_2</td>\n",
       "      <td>20대</td>\n",
       "      <td>여성</td>\n",
       "    </tr>\n",
       "    <tr>\n",
       "      <th>2977840</th>\n",
       "      <td>NaN</td>\n",
       "      <td>NaN</td>\n",
       "      <td>NaN</td>\n",
       "      <td>NaN</td>\n",
       "      <td>NaN</td>\n",
       "    </tr>\n",
       "  </tbody>\n",
       "</table>\n",
       "<p>2977841 rows × 5 columns</p>\n",
       "</div>"
      ],
      "text/plain": [
       "        data/NIKL_OM_form_age_sex.csv                form        speaker_id  \\\n",
       "0                  MDRW2100000001.1.1               안녕하세요  MDRW2100000001_1   \n",
       "1                  MDRW2100000001.1.4            이거 해봐요><  MDRW2100000001_1   \n",
       "2                  MDRW2100000001.1.7        오 ㅋㅋㅋㅋㅋㅋㅋㅋㅋㅋ  MDRW2100000001_1   \n",
       "3                  MDRW2100000001.1.8            안챙겨도 잘커요  MDRW2100000001_1   \n",
       "4                  MDRW2100000001.1.9          너무 맞는데요ㅜㅜ?  MDRW2100000001_1   \n",
       "...                               ...                 ...               ...   \n",
       "2977836         MMRW2100000241.1.2775       한 번도 안 써봄...?  MMRW2100000241_2   \n",
       "2977837         MMRW2100000241.1.2776             그거 개꿀인디  MMRW2100000241_2   \n",
       "2977838         MMRW2100000241.1.2780  ㅋㅋㅋㅋㅋㅋ잠수복 개귀여웤ㅋㅋㅋㅋ  MMRW2100000241_2   \n",
       "2977839         MMRW2100000241.1.2786   ㅋㅋㅋㅋㅋㅋㅋㅋㅋㅋㅋㅋㅋ가즈아!  MMRW2100000241_2   \n",
       "2977840                           NaN                 NaN               NaN   \n",
       "\n",
       "         age  sex  \n",
       "0        20대   여성  \n",
       "1        20대   여성  \n",
       "2        20대   여성  \n",
       "3        20대   여성  \n",
       "4        20대   여성  \n",
       "...      ...  ...  \n",
       "2977836  20대   여성  \n",
       "2977837  20대   여성  \n",
       "2977838  20대   여성  \n",
       "2977839  20대   여성  \n",
       "2977840  NaN  NaN  \n",
       "\n",
       "[2977841 rows x 5 columns]"
      ]
     },
     "execution_count": 4,
     "metadata": {},
     "output_type": "execute_result"
    }
   ],
   "source": [
    "utterances = pd.read_csv(DATA_PATH, compression='gzip', on_bad_lines='skip')\n",
    "utterances"
   ]
  },
  {
   "cell_type": "code",
   "execution_count": 5,
   "metadata": {},
   "outputs": [
    {
     "data": {
      "text/html": [
       "<div>\n",
       "<style scoped>\n",
       "    .dataframe tbody tr th:only-of-type {\n",
       "        vertical-align: middle;\n",
       "    }\n",
       "\n",
       "    .dataframe tbody tr th {\n",
       "        vertical-align: top;\n",
       "    }\n",
       "\n",
       "    .dataframe thead th {\n",
       "        text-align: right;\n",
       "    }\n",
       "</style>\n",
       "<table border=\"1\" class=\"dataframe\">\n",
       "  <thead>\n",
       "    <tr style=\"text-align: right;\">\n",
       "      <th></th>\n",
       "      <th>form</th>\n",
       "      <th>speaker_id</th>\n",
       "      <th>age</th>\n",
       "      <th>sex</th>\n",
       "    </tr>\n",
       "    <tr>\n",
       "      <th>id</th>\n",
       "      <th></th>\n",
       "      <th></th>\n",
       "      <th></th>\n",
       "      <th></th>\n",
       "    </tr>\n",
       "  </thead>\n",
       "  <tbody>\n",
       "    <tr>\n",
       "      <th>MDRW2100000001.1.1</th>\n",
       "      <td>안녕하세요</td>\n",
       "      <td>MDRW2100000001_1</td>\n",
       "      <td>20대</td>\n",
       "      <td>여성</td>\n",
       "    </tr>\n",
       "    <tr>\n",
       "      <th>MDRW2100000001.1.4</th>\n",
       "      <td>이거 해봐요&gt;&lt;</td>\n",
       "      <td>MDRW2100000001_1</td>\n",
       "      <td>20대</td>\n",
       "      <td>여성</td>\n",
       "    </tr>\n",
       "    <tr>\n",
       "      <th>MDRW2100000001.1.7</th>\n",
       "      <td>오 ㅋㅋㅋㅋㅋㅋㅋㅋㅋㅋ</td>\n",
       "      <td>MDRW2100000001_1</td>\n",
       "      <td>20대</td>\n",
       "      <td>여성</td>\n",
       "    </tr>\n",
       "    <tr>\n",
       "      <th>MDRW2100000001.1.8</th>\n",
       "      <td>안챙겨도 잘커요</td>\n",
       "      <td>MDRW2100000001_1</td>\n",
       "      <td>20대</td>\n",
       "      <td>여성</td>\n",
       "    </tr>\n",
       "    <tr>\n",
       "      <th>MDRW2100000001.1.9</th>\n",
       "      <td>너무 맞는데요ㅜㅜ?</td>\n",
       "      <td>MDRW2100000001_1</td>\n",
       "      <td>20대</td>\n",
       "      <td>여성</td>\n",
       "    </tr>\n",
       "    <tr>\n",
       "      <th>...</th>\n",
       "      <td>...</td>\n",
       "      <td>...</td>\n",
       "      <td>...</td>\n",
       "      <td>...</td>\n",
       "    </tr>\n",
       "    <tr>\n",
       "      <th>MMRW2100000241.1.2774</th>\n",
       "      <td>그 낚시대회 전용 투망 있을걸???</td>\n",
       "      <td>MMRW2100000241_2</td>\n",
       "      <td>20대</td>\n",
       "      <td>여성</td>\n",
       "    </tr>\n",
       "    <tr>\n",
       "      <th>MMRW2100000241.1.2775</th>\n",
       "      <td>한 번도 안 써봄...?</td>\n",
       "      <td>MMRW2100000241_2</td>\n",
       "      <td>20대</td>\n",
       "      <td>여성</td>\n",
       "    </tr>\n",
       "    <tr>\n",
       "      <th>MMRW2100000241.1.2776</th>\n",
       "      <td>그거 개꿀인디</td>\n",
       "      <td>MMRW2100000241_2</td>\n",
       "      <td>20대</td>\n",
       "      <td>여성</td>\n",
       "    </tr>\n",
       "    <tr>\n",
       "      <th>MMRW2100000241.1.2780</th>\n",
       "      <td>ㅋㅋㅋㅋㅋㅋ잠수복 개귀여웤ㅋㅋㅋㅋ</td>\n",
       "      <td>MMRW2100000241_2</td>\n",
       "      <td>20대</td>\n",
       "      <td>여성</td>\n",
       "    </tr>\n",
       "    <tr>\n",
       "      <th>MMRW2100000241.1.2786</th>\n",
       "      <td>ㅋㅋㅋㅋㅋㅋㅋㅋㅋㅋㅋㅋㅋ가즈아!</td>\n",
       "      <td>MMRW2100000241_2</td>\n",
       "      <td>20대</td>\n",
       "      <td>여성</td>\n",
       "    </tr>\n",
       "  </tbody>\n",
       "</table>\n",
       "<p>2977840 rows × 4 columns</p>\n",
       "</div>"
      ],
      "text/plain": [
       "                                      form        speaker_id  age sex\n",
       "id                                                                   \n",
       "MDRW2100000001.1.1                   안녕하세요  MDRW2100000001_1  20대  여성\n",
       "MDRW2100000001.1.4                이거 해봐요><  MDRW2100000001_1  20대  여성\n",
       "MDRW2100000001.1.7            오 ㅋㅋㅋㅋㅋㅋㅋㅋㅋㅋ  MDRW2100000001_1  20대  여성\n",
       "MDRW2100000001.1.8                안챙겨도 잘커요  MDRW2100000001_1  20대  여성\n",
       "MDRW2100000001.1.9              너무 맞는데요ㅜㅜ?  MDRW2100000001_1  20대  여성\n",
       "...                                    ...               ...  ...  ..\n",
       "MMRW2100000241.1.2774  그 낚시대회 전용 투망 있을걸???  MMRW2100000241_2  20대  여성\n",
       "MMRW2100000241.1.2775        한 번도 안 써봄...?  MMRW2100000241_2  20대  여성\n",
       "MMRW2100000241.1.2776              그거 개꿀인디  MMRW2100000241_2  20대  여성\n",
       "MMRW2100000241.1.2780   ㅋㅋㅋㅋㅋㅋ잠수복 개귀여웤ㅋㅋㅋㅋ  MMRW2100000241_2  20대  여성\n",
       "MMRW2100000241.1.2786    ㅋㅋㅋㅋㅋㅋㅋㅋㅋㅋㅋㅋㅋ가즈아!  MMRW2100000241_2  20대  여성\n",
       "\n",
       "[2977840 rows x 4 columns]"
      ]
     },
     "execution_count": 5,
     "metadata": {},
     "output_type": "execute_result"
    }
   ],
   "source": [
    "utterances = pd.read_csv(DATA_PATH, compression='gzip', on_bad_lines='skip')\n",
    "utterances.dropna(inplace=True)\n",
    "utterances.rename(columns={utterances.columns[0]: 'id'}, inplace=True)\n",
    "utterances.set_index('id', inplace=True)\n",
    "utterances"
   ]
  },
  {
   "cell_type": "markdown",
   "metadata": {},
   "source": [
    "### 데이터 형변환\n",
    "\n",
    "일반적으로 Python의 여러 라이브러리에서 코퍼스를 다룰 때는 한 문장을 단어들의 리스트로 표현하고, 코퍼스 전체를 문장들의 리스트로 표현한다.\n",
    "\n",
    "지금 가지고 있는 데이터프레임에서는 문장에 해당하는 발화가 `str` 자료형이므로, `str.split()` 메소드를 사용하여 단어들의 리스트로 만들어 주자."
   ]
  },
  {
   "cell_type": "code",
   "execution_count": 6,
   "metadata": {},
   "outputs": [
    {
     "name": "stdout",
     "output_type": "stream",
     "text": [
      "id\n",
      "MDRW2100000001.1.1            [안녕하세요]\n",
      "MDRW2100000001.1.4        [이거, 해봐요><]\n",
      "MDRW2100000001.1.7    [오, ㅋㅋㅋㅋㅋㅋㅋㅋㅋㅋ]\n",
      "MDRW2100000001.1.8        [안챙겨도, 잘커요]\n",
      "MDRW2100000001.1.9      [너무, 맞는데요ㅜㅜ?]\n",
      "Name: form, dtype: object\n"
     ]
    }
   ],
   "source": [
    "corpus = utterances['form'] # edit this line\n",
    "print(corpus[:5])"
   ]
  },
  {
   "cell_type": "markdown",
   "metadata": {},
   "source": [
    "## 2. Word2Vec 모델 훈련"
   ]
  },
  {
   "cell_type": "markdown",
   "metadata": {},
   "source": [
    "### 모델 초기화"
   ]
  },
  {
   "cell_type": "code",
   "execution_count": 7,
   "metadata": {},
   "outputs": [],
   "source": [
    "model = Word2Vec(\n",
    "    sg=1,\n",
    "    min_count=5,\n",
    "    vector_size=100,\n",
    "    window=2,\n",
    "    negative=5,\n",
    ")"
   ]
  },
  {
   "cell_type": "markdown",
   "metadata": {},
   "source": [
    "### Vocabulary 구축"
   ]
  },
  {
   "cell_type": "code",
   "execution_count": 8,
   "metadata": {},
   "outputs": [
    {
     "name": "stderr",
     "output_type": "stream",
     "text": [
      "  0%|          | 0/2977840 [00:00<?, ?it/s]"
     ]
    },
    {
     "name": "stderr",
     "output_type": "stream",
     "text": [
      "100%|██████████| 2977840/2977840 [00:05<00:00, 575917.00it/s]\n"
     ]
    }
   ],
   "source": [
    "model.build_vocab(corpus_iterable=tqdm(corpus))"
   ]
  },
  {
   "cell_type": "markdown",
   "metadata": {},
   "source": [
    "### 모델 훈련시키기"
   ]
  },
  {
   "cell_type": "code",
   "execution_count": 9,
   "metadata": {},
   "outputs": [
    {
     "data": {
      "text/plain": [
       "(32843899, 46433495)"
      ]
     },
     "execution_count": 9,
     "metadata": {},
     "output_type": "execute_result"
    }
   ],
   "source": [
    "model.train(\n",
    "    corpus_iterable=corpus,\n",
    "    total_examples=model.corpus_count,\n",
    "    epochs=5\n",
    ")\n",
    "# (trained_word_count, raw_word_count)"
   ]
  },
  {
   "cell_type": "markdown",
   "metadata": {},
   "source": [
    "### 훈련 결과\n",
    "\n",
    "Vocabulary 확인"
   ]
  },
  {
   "cell_type": "code",
   "execution_count": 10,
   "metadata": {},
   "outputs": [
    {
     "name": "stdout",
     "output_type": "stream",
     "text": [
      "['아', 'ㅋㅋ', 'ㅋㅋㅋ', '저는', '진짜', '근데', '너무', 'ㅎㅎ', '다', '저도', '좀', 'ㅋㅋㅋㅋ', '잘', '그', '나', '네', '더', '많이', '전', '그냥', '오', '난', 'ㅠㅠ', '맞아요', 'ㅋㅋㅋㅋㅋ', '안', '오늘', '저', '그래서', '그럼']\n"
     ]
    }
   ],
   "source": [
    "# 빈도순 상위 30개 단어\n",
    "print(model.wv.index_to_key[:30])"
   ]
  },
  {
   "cell_type": "markdown",
   "metadata": {},
   "source": [
    "단어 벡터 확인"
   ]
  },
  {
   "cell_type": "code",
   "execution_count": 11,
   "metadata": {},
   "outputs": [
    {
     "name": "stdout",
     "output_type": "stream",
     "text": [
      "[ 0.15738676  0.24605632 -0.43182623  0.10587132 -0.35331696 -0.33401868\n",
      "  0.2000567   0.05408589 -0.13641225 -0.24742404  0.19703132 -0.15992947\n",
      "  0.02313019  0.28577062 -0.26262215  0.01126668  0.09560379  0.11013892\n",
      "  0.210887   -0.44798023  1.1004206   0.36859006  0.08071067 -0.30098853\n",
      "  0.24289334 -0.7887884   0.34335396 -0.01580519  0.2203314   0.6322042\n",
      "  0.10620683  0.00429792  0.44287267 -0.08426949 -0.24569242 -0.26391363\n",
      "  0.06864527 -0.5362569  -0.10555842 -1.0280269  -0.3204698  -0.2898516\n",
      " -0.07682578 -0.25533712  0.39715    -0.14620118 -0.15547433 -0.85613203\n",
      "  0.9472959   0.486032    0.54929185 -0.42307407 -0.12352052 -0.39435896\n",
      " -0.43858418  0.6094522   0.36039293  1.0375626  -0.21397994  0.16216378\n",
      "  0.16238384 -0.47523463  0.27717376  0.33243933 -0.38155496 -0.3853603\n",
      "  0.15183286  0.07056238 -1.2693357   0.02403639  0.20827736 -0.07857645\n",
      "  0.14170831  0.72060084 -0.55891794  0.28072774 -0.14438684 -0.06744284\n",
      " -0.6136532  -0.34331676 -0.15361954  0.19866726 -0.09638013 -0.6661959\n",
      "  0.06207349 -0.12408143  0.1530564   0.19192566  0.46241686 -0.19751924\n",
      " -0.03644402 -0.30289286 -0.5268517  -0.57901484 -0.4261157   0.25466615\n",
      "  0.43925637 -0.3940799  -0.49822474  0.13629127]\n"
     ]
    }
   ],
   "source": [
    "print(model.wv['ㅋㅋ'])"
   ]
  },
  {
   "cell_type": "markdown",
   "metadata": {},
   "source": [
    "## 3. Word2Vec 모델 활용"
   ]
  },
  {
   "cell_type": "markdown",
   "metadata": {},
   "source": [
    "### `gensim`의 주요 기능"
   ]
  },
  {
   "cell_type": "markdown",
   "metadata": {},
   "source": [
    "\n",
    "\n",
    "코사인 유사도 계산"
   ]
  },
  {
   "cell_type": "code",
   "execution_count": 12,
   "metadata": {},
   "outputs": [
    {
     "name": "stdout",
     "output_type": "stream",
     "text": [
      "0.8882772\n",
      "0.37515274\n"
     ]
    }
   ],
   "source": [
    "print(model.wv.similarity(w1='펜', w2='연필'))\n",
    "print(model.wv.similarity(w1='펜', w2='좋아요'))"
   ]
  },
  {
   "cell_type": "markdown",
   "metadata": {},
   "source": [
    "평행사변형 모형"
   ]
  },
  {
   "cell_type": "code",
   "execution_count": 13,
   "metadata": {},
   "outputs": [
    {
     "name": "stdout",
     "output_type": "stream",
     "text": [
      "[('할아버지', 0.8357796669006348), ('형부', 0.7990549206733704), ('니네', 0.7917910218238831), ('오빠랑', 0.7864155173301697), ('이모가', 0.7850600481033325), ('name10', 0.7814578413963318), ('할머니랑', 0.7792093753814697), ('너희', 0.7789581418037415), ('등록금', 0.7778154611587524), ('아빠랑', 0.7772243022918701)]\n"
     ]
    }
   ],
   "source": [
    "# 아빠 : 엄마 = X : 할머니\n",
    "# 아빠 - 엄마 = X - 할머니\n",
    "# X = 할머니 + 아빠 - 엄마\n",
    "print() # ADD THIS LINE"
   ]
  },
  {
   "cell_type": "markdown",
   "metadata": {},
   "source": [
    "우리 중에 스파이가 있는 것 같아"
   ]
  },
  {
   "cell_type": "code",
   "execution_count": 14,
   "metadata": {},
   "outputs": [
    {
     "name": "stdout",
     "output_type": "stream",
     "text": [
      "ㅠㅠ\n"
     ]
    }
   ],
   "source": [
    "print(model.wv.doesnt_match(['ㅋㅋ', 'ㅎㅎ', '^^', 'ㅠㅠ']))"
   ]
  },
  {
   "cell_type": "markdown",
   "metadata": {},
   "source": [
    "### '완전'과 '아주'의 이웃 비교"
   ]
  },
  {
   "cell_type": "code",
   "execution_count": 15,
   "metadata": {},
   "outputs": [
    {
     "data": {
      "text/plain": [
       "[('짱', 0.7017574906349182),\n",
       " ('되게', 0.671169638633728),\n",
       " ('디게', 0.641437828540802),\n",
       " ('대박', 0.628450870513916),\n",
       " ('넘나', 0.6200318336486816),\n",
       " ('아주', 0.6100650429725647),\n",
       " ('왕', 0.6088557839393616),\n",
       " ('무지', 0.6022351384162903),\n",
       " ('연기', 0.6018117666244507),\n",
       " ('너뮤', 0.5967180728912354)]"
      ]
     },
     "execution_count": 15,
     "metadata": {},
     "output_type": "execute_result"
    }
   ],
   "source": [
    "model.wv.most_similar(['완전'])"
   ]
  },
  {
   "cell_type": "code",
   "execution_count": 16,
   "metadata": {},
   "outputs": [
    {
     "data": {
      "text/plain": [
       "[('매우', 0.7364714741706848),\n",
       " ('굉장히', 0.6915157437324524),\n",
       " ('무척', 0.6906196475028992),\n",
       " ('상당히', 0.6799764633178711),\n",
       " ('되게', 0.6653771996498108),\n",
       " ('무지', 0.6599602699279785),\n",
       " ('디게', 0.6431306600570679),\n",
       " ('정말정말', 0.6371215581893921),\n",
       " ('꽤나', 0.6204665303230286),\n",
       " ('넘나', 0.6162236332893372)]"
      ]
     },
     "execution_count": 16,
     "metadata": {},
     "output_type": "execute_result"
    }
   ],
   "source": [
    "model.wv.most_similar(['아주'])"
   ]
  },
  {
   "cell_type": "markdown",
   "metadata": {},
   "source": [
    "### 모델 저장하기"
   ]
  },
  {
   "cell_type": "code",
   "execution_count": 17,
   "metadata": {},
   "outputs": [
    {
     "ename": "",
     "evalue": "",
     "output_type": "error",
     "traceback": [
      "\u001b[1;31mThe Kernel crashed while executing code in the the current cell or a previous cell. Please review the code in the cell(s) to identify a possible cause of the failure. Click <a href='https://aka.ms/vscodeJupyterKernelCrash'>here</a> for more info. View Jupyter <a href='command:jupyter.viewOutput'>log</a> for further details."
     ]
    }
   ],
   "source": [
    "model.save('../models/word2vec-modu-online')"
   ]
  }
 ],
 "metadata": {
  "kernelspec": {
   "display_name": "sbert",
   "language": "python",
   "name": "python3"
  },
  "language_info": {
   "codemirror_mode": {
    "name": "ipython",
    "version": 3
   },
   "file_extension": ".py",
   "mimetype": "text/x-python",
   "name": "python",
   "nbconvert_exporter": "python",
   "pygments_lexer": "ipython3",
   "version": "3.10.8"
  }
 },
 "nbformat": 4,
 "nbformat_minor": 2
}
