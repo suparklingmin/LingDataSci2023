{
 "cells": [
  {
   "cell_type": "markdown",
   "metadata": {},
   "source": [
    "# 언어데이터과학 25강 (2023-12-03) 옛한글 처리"
   ]
  },
  {
   "cell_type": "markdown",
   "metadata": {},
   "source": [
    "## 할 일\n",
    "\n",
    "### 오늘의 목표\n",
    "\n",
    "현대 한국어 표기에 쓰이지 않는 옛한글을 포함하여 한국어 음절 유형을 분류할 수 있다.\n",
    "  > ᄣᆞᆯ -> CCCVC, ᄎᆔ -> CGVV\n",
    "\n",
    "\n",
    "### 심화 과제\n",
    "\n",
    "임의의 한글 자모의 연쇄를 한글 음절로 합성할 수 있다.\n",
    "  > ㅂㅏㅂㅅㅜㄷㄱㅏㄹㅏㄱ -> 밥숟가락"
   ]
  },
  {
   "cell_type": "markdown",
   "metadata": {},
   "source": [
    "## 옛한글 처리 방식\n"
   ]
  },
  {
   "cell_type": "markdown",
   "metadata": {},
   "source": [
    "\n",
    "### 과거\n",
    "\n",
    "유니코드가 널리 보급되기 전 2000년대까지는 옛한글을 처리할 때 대체로 PUA 방법을 사용했다.\n",
    "\n",
    "+ PUA(Private Use Areas): 유니코드에서 코드가 할당되지 않은 문자 영역.\n",
    "\n",
    "PUA에 옛한글 문자를 임의로 할당했으므로, 유니코드에서 옛한글을 처리할 수 없다."
   ]
  },
  {
   "cell_type": "code",
   "execution_count": 1,
   "metadata": {},
   "outputs": [
    {
     "name": "stdout",
     "output_type": "stream",
     "text": [
      "\n"
     ]
    }
   ],
   "source": [
    "spy = '\\ue13d'\n",
    "print(spy)\n",
    "# from unicodedata import name\n",
    "# print(name(spy)) # ValueError"
   ]
  },
  {
   "cell_type": "markdown",
   "metadata": {},
   "source": [
    "예를 들어 위의 문자는 PUA에 할당된 옛한글이다. 이런 문자는 옛한글을 특별히 지원하는 폰트로만 볼 수 있다는 한계가 있다.\n",
    "\n",
    "가장 쉽게 다운로드할 수 있는 폰트로는 네이버 한글한글 아름답게 프로젝트에서 공개한 \"나눔명조옛한글\"과 \"나눔바른고딕옛한글\"이 있다. 아래의 링크에서 미리보기 및 다운로드가 가능하다.\n",
    "\n",
    "https://hangeul.naver.com/font/nanum\n",
    "\n",
    "![](./img/nanum.png)"
   ]
  },
  {
   "cell_type": "markdown",
   "metadata": {},
   "source": [
    "### 현재\n",
    "\n",
    "PUA 방식은 지금도 일부에서 쓰고 있으나, 유니코드가 보급된 2010년대 이후로는 \"첫가끝\" 방식을 권장한다.\n",
    "\n",
    "+ \"첫가끝\"(첫소리-가운뎃소리-끝소리): 유니코드에 할당된 초성 문자, 중성 문자, 종성 문자를 조합하여 하나의 음절처럼 모아서 보여주는 방법."
   ]
  },
  {
   "cell_type": "code",
   "execution_count": 2,
   "metadata": {},
   "outputs": [
    {
     "name": "stdout",
     "output_type": "stream",
     "text": [
      "구ᇚ\n"
     ]
    }
   ],
   "source": [
    "leading = 'ᄀ'\n",
    "vowel = 'ᅮ'\n",
    "trailing = 'ᇚ'\n",
    "print(leading+vowel+trailing)"
   ]
  },
  {
   "cell_type": "markdown",
   "metadata": {},
   "source": [
    "유니코드에서 사용 가능한 한글 자모 초성 문자, 중성 문자, 종성 문자의 목록은 아래의 표에서 볼 수 있다.\n",
    "\n",
    "![](https://upload.wikimedia.org/wikipedia/commons/b/bd/Hangul_jamo_characters_in_Unicode.svg)"
   ]
  },
  {
   "cell_type": "markdown",
   "metadata": {},
   "source": [
    "## `unicodedata` 모듈을 사용한 Python 옛한글 처리\n",
    "\n",
    "이번 실습에서는 첫가끝 방식으로 옛한글 음절과 현대 한글 음절을 일관성 있게 처리할 것이다.\n",
    "\n",
    "우선 필요한 모듈과 함수를 가져오자."
   ]
  },
  {
   "cell_type": "code",
   "execution_count": 3,
   "metadata": {},
   "outputs": [],
   "source": [
    "from unicodedata import lookup, normalize, name\n",
    "import re"
   ]
  },
  {
   "cell_type": "markdown",
   "metadata": {},
   "source": [
    "### 유니코드 문자의 두 가지 정보: 코드 포인트와 이름"
   ]
  },
  {
   "cell_type": "markdown",
   "metadata": {},
   "source": [
    "\n",
    "옛한글 처리에서 먼저 맞닥뜨리는 문제는 옛한글에 사용되는 자모를 일반적인 한글 키보드로 쉽게 입력하지 못한다는 것이다.\n",
    "\n",
    "Python에서는 유니코드의 문자 정보를 활용하여 이 문제를 해결할 수 있다.\n",
    "\n",
    "유니코드 문자 정보로는 코드 포인트와 이름이 있다.\n",
    "\n",
    "코드 포인트를 문자로 변환해 주는 함수는 `chr()`, 이름을 문자로 변환해 주는 함수는 `unicodedata.lookup()`이다."
   ]
  },
  {
   "cell_type": "markdown",
   "metadata": {},
   "source": [
    "![](./img/kiyeok.png)\n",
    "\n",
    "예를 들어 한글 초성 'ㄱ'의 코드 포인트는 16진수 1100, 이름은 'HANGUL CHOSEONG KIYEOK'이므로, 아래와 같이 입력할 수 있다."
   ]
  },
  {
   "cell_type": "code",
   "execution_count": 4,
   "metadata": {},
   "outputs": [
    {
     "name": "stdout",
     "output_type": "stream",
     "text": [
      "ᄀ ᄀ\n",
      "True\n"
     ]
    }
   ],
   "source": [
    "kiyeok1 = chr(0x1100) # 0x1100: 16진수 1100\n",
    "kiyeok2 = lookup('HANGUL CHOSEONG KIYEOK')\n",
    "print(kiyeok1, kiyeok2)\n",
    "print(kiyeok1 == kiyeok2)"
   ]
  },
  {
   "cell_type": "markdown",
   "metadata": {},
   "source": [
    "위와 같이 코드 포인트를 `chr()` 함수의 인자로 넣어 주거나 이름을 `unicodedata.lookup()` 함수의 인자로 넣어 주면 해당하는 문자를 얻는다.\n",
    "\n",
    "코드 포인트와 이름을 모른다면 아래의 문서에서 찾아볼 수 있다."
   ]
  },
  {
   "cell_type": "markdown",
   "metadata": {},
   "source": [
    "\n",
    "#### 한글 자모(초성, 중성, 종성)의 코드 포인트와 이름 알아보기\n",
    "\n",
    "+ https://www.unicode.org/charts/PDF/U1100.pdf HANGUL JAMO\n",
    "+ https://www.unicode.org/charts/PDF/UA960.pdf HANGUL JAMO EXTENDED-A\n",
    "+ https://www.unicode.org/charts/PDF/UD7B0.pdf HANGUL JAMO EXTENDED-B"
   ]
  },
  {
   "cell_type": "markdown",
   "metadata": {},
   "source": [
    "### `lookup()` 함수로 옛한글 입력하기"
   ]
  },
  {
   "cell_type": "markdown",
   "metadata": {},
   "source": [
    "각 문자의 코드 포인트는 외우거나 매번 찾아보아야 해서 번거로우므로, 이 실습에서는 사람이 좀 더 추측하기 쉬운 이름을 사용할 것이다.\n",
    "\n",
    "+ `unicodedata.lookup()`: 유니코드에서 정의된 문자의 이름을 인자로 받아서 해당하는 문자를 돌려주는 함수\n",
    "\n",
    "이 함수를 활용하여 옛한글 자모가 포함된 음절을 입력해 보자."
   ]
  },
  {
   "cell_type": "code",
   "execution_count": 5,
   "metadata": {},
   "outputs": [
    {
     "name": "stdout",
     "output_type": "stream",
     "text": [
      "ᄣᆞᆯ\n"
     ]
    }
   ],
   "source": [
    "# CHOSEONG, JUNGSEONG, JONGSEONG 순서가 맞아야 하나의 음절로 모아서 보여줌\n",
    "onset1 = lookup('HANGUL CHOSEONG PIEUP-SIOS-TIKEUT')\n",
    "nucleus1 = lookup('HANGUL JUNGSEONG ARAEA')\n",
    "coda1 = lookup('HANGUL JONGSEONG RIEUL')\n",
    "print(onset1+nucleus1+coda1)"
   ]
  },
  {
   "cell_type": "code",
   "execution_count": 6,
   "metadata": {},
   "outputs": [
    {
     "name": "stdout",
     "output_type": "stream",
     "text": [
      "ᄎᆔ\n"
     ]
    }
   ],
   "source": [
    "onset2 = lookup('HANGUL CHOSEONG CHIEUCH')\n",
    "nucleus2 = lookup('HANGUL JUNGSEONG YU-I')\n",
    "print(onset2+nucleus2)"
   ]
  },
  {
   "cell_type": "code",
   "execution_count": 7,
   "metadata": {},
   "outputs": [
    {
     "name": "stdout",
     "output_type": "stream",
     "text": [
      "구ᇚ\n"
     ]
    }
   ],
   "source": [
    "onset3 = lookup('HANGUL CHOSEONG KIYEOK')\n",
    "nucleus3 = lookup('HANGUL JUNGSEONG U')\n",
    "coda3 = lookup('HANGUL JONGSEONG MIEUM-KIYEOK')\n",
    "print(onset3+nucleus3+coda3)"
   ]
  },
  {
   "cell_type": "markdown",
   "metadata": {},
   "source": [
    "### `normalize()` 함수로 한글 음절 분해하기"
   ]
  },
  {
   "cell_type": "markdown",
   "metadata": {},
   "source": [
    "위에서 옛한글을 자모 문자의 조합으로 입력할 수 있음을 알아보았다.\n",
    "\n",
    "그런데 현대 한글의 경우 하나의 완성된 음절이 하나의 문자로 처리된다."
   ]
  },
  {
   "cell_type": "code",
   "execution_count": 8,
   "metadata": {},
   "outputs": [
    {
     "name": "stdout",
     "output_type": "stream",
     "text": [
      "꺇 1\n"
     ]
    }
   ],
   "source": [
    "syllable = '꺇'\n",
    "print(syllable, len(syllable))"
   ]
  },
  {
   "cell_type": "markdown",
   "metadata": {},
   "source": [
    "예를 들어 위에서 '꺇'이라는 음절은 `len()` 함수로 길이를 확인했을 때 1의 값이 나온다. 즉, '꺇' 자체가 한 개의 문자라는 것이다.\n",
    "\n",
    "그런데 '꺇'의 음절 유형이 CGVCC라는 사실을 알아내기 위해서는 이 음절이 세 개의 자모 'ᄁ', 'ᅣ', 'ᆪ'로 이루어져 있다는 정보가 필요하다.\n",
    "\n",
    "또한 옛한글과 현대 한글을 일관된 방식으로 처리하려면 현대 한글 역시 옛한글처럼 자모 문자의 조합으로 표시해 주어야 한다.\n",
    "\n",
    "다행히 유니코드에서 '꺇'이라는 하나의 문자가 'ᄁ', 'ᅣ', 'ᆪ' 세 개의 문자로 분해될 수 있다는 정보가 들어 있다.\n",
    "\n",
    "이 정보를 통해 한글 음절 문자나 자모 문자들의 연쇄를 정규화(normalize)할 수 있다. 정규화 방식은 아래의 네 가지가 있다.\n",
    "\n",
    "+ NFD: Normalization Form (Canonical) D(ecomposition)\n",
    "+ NFC: Normalization Form (Canonical) C(omposition)\n",
    "+ NFKD: Normalization Form Compatibility D(ecomposition)\n",
    "+ NFKC: Normalization Form Compatibility C(omposition)\n",
    "\n",
    "한글 음절 한 문자를 자모 문자들로 분해(decompose)하려면 'NFD' 또는 'NFKD' 방식으로 정규화하면 된다.\n",
    "\n",
    "매번 정규화 방식을 명시하기 귀찮으므로, 문자를 분해하는 함수를 만들어 놓자."
   ]
  },
  {
   "cell_type": "code",
   "execution_count": 9,
   "metadata": {},
   "outputs": [],
   "source": [
    "def decompose(char):\n",
    "  return normalize('NFKD', char)"
   ]
  },
  {
   "cell_type": "markdown",
   "metadata": {},
   "source": [
    "아래의 예시에서 '꺇'을 분해한 결과는, 눈으로 보기에는 분해 이전의 '꺇'과 모양이 똑같다.\n",
    "\n",
    "그러나 `len()` 함수를 통해 길이를 확인하면 1이 아니라 3이 나온다. 즉, 1개의 문자처럼 합쳐져 있지만 사실은 3개의 문자라는 것이다."
   ]
  },
  {
   "cell_type": "code",
   "execution_count": 10,
   "metadata": {},
   "outputs": [
    {
     "name": "stdout",
     "output_type": "stream",
     "text": [
      "꺇 3 ('ᄁ', 'ᅣ', 'ᆪ')\n"
     ]
    }
   ],
   "source": [
    "jamos = decompose('꺇')\n",
    "print(jamos, len(jamos), tuple(jamos))"
   ]
  },
  {
   "cell_type": "markdown",
   "metadata": {},
   "source": [
    "### `name()` 함수로 문자 이름 찾기"
   ]
  },
  {
   "cell_type": "markdown",
   "metadata": {},
   "source": [
    "다음으로 `unicodedata.lookup()` 함수의 역함수에 관해 알아볼 것이다.\n",
    "\n",
    "`unicodedata.name()` 함수는 1개의 문자를 인자로 받아 그 문자의 유니코드 이름을 돌려준다.\n",
    "\n",
    "한글 (2벌식) 키보드에서 'ㄱ' 키를 눌렀을 때 입력되는 문자의 이름을 확인해 보자."
   ]
  },
  {
   "cell_type": "code",
   "execution_count": 11,
   "metadata": {},
   "outputs": [
    {
     "name": "stdout",
     "output_type": "stream",
     "text": [
      "HANGUL LETTER KIYEOK\n"
     ]
    }
   ],
   "source": [
    "char = 'ㄱ'\n",
    "print(name(char))"
   ]
  },
  {
   "cell_type": "markdown",
   "metadata": {},
   "source": [
    "위의 결과에서 주목해야 할 점은 이름의 두 번째 단어가 'CHOSEONG'이나 'JONGSEONG'이 아닌 'LETTER'라는 것이다.\n",
    "\n",
    "즉, 한글 자모 'ㄱ'에 해당하는 유니코드 문자는 모두 세 개이고, 각각의 코드 포인트와 이름은 아래와 같다.\n",
    "\n",
    "+ U+1100, HANGUL CHOSEONG KIYEOK (초성 문자)\n",
    "+ U+11A8, HANGUL JONGSEONG KIYEOK (종성 문자)\n",
    "+ U+3131, HANGUL LETTER KIYOEK (호환성 문자)\n",
    "\n",
    "한글 음절 1문자를 분해하면 초성 문자와 종성 문자가 나오고, 한글 키보드에서 1개의 키를 누르면 호환성 문자가 나온다.\n",
    "\n",
    "앞서 만든 `decompose()` 함수의 반환값으로 나오는 문자들의 이름을 확인해 보자."
   ]
  },
  {
   "cell_type": "code",
   "execution_count": 12,
   "metadata": {},
   "outputs": [],
   "source": [
    "def print_jamo_name(syl:str):\n",
    "  print(syl, name(syl))\n",
    "  print('----------')\n",
    "  for jamo in decompose(syl):\n",
    "    print(jamo, hex(ord(jamo)), name(jamo))"
   ]
  },
  {
   "cell_type": "code",
   "execution_count": 13,
   "metadata": {},
   "outputs": [
    {
     "name": "stdout",
     "output_type": "stream",
     "text": [
      "아 HANGUL SYLLABLE A\n",
      "----------\n",
      "ᄋ 0x110b HANGUL CHOSEONG IEUNG\n",
      "ᅡ 0x1161 HANGUL JUNGSEONG A\n"
     ]
    }
   ],
   "source": [
    "print_jamo_name('아') # V"
   ]
  },
  {
   "cell_type": "code",
   "execution_count": 14,
   "metadata": {},
   "outputs": [
    {
     "name": "stdout",
     "output_type": "stream",
     "text": [
      "뷁 HANGUL SYLLABLE BWELG\n",
      "----------\n",
      "ᄇ 0x1107 HANGUL CHOSEONG PIEUP\n",
      "ᅰ 0x1170 HANGUL JUNGSEONG WE\n",
      "ᆰ 0x11b0 HANGUL JONGSEONG RIEUL-KIYEOK\n"
     ]
    }
   ],
   "source": [
    "print_jamo_name('뷁') # CGVCC"
   ]
  },
  {
   "cell_type": "markdown",
   "metadata": {},
   "source": [
    "이 실습의 목표인 음절 유형 분류를 달성하기 위해서는 초성 이름이 'IEUNG'으로 끝나는지, 중성 이름의 마지막 단어에 활음(glide)이 있는지 등의 정보가 필요하다.\n",
    "\n",
    "앞으로 이 정보를 자주 사용할 것 같으므로, 음절이나 자모의 로마자에 해당하는 마지막 단어만 추출하는 함수를 미리 만들어 놓자."
   ]
  },
  {
   "cell_type": "code",
   "execution_count": 15,
   "metadata": {},
   "outputs": [],
   "source": [
    "def romanize(hangul):\n",
    "  hname = name(hangul)\n",
    "  assert hname.startswith('HANGUL')\n",
    "  return hname.split()[-1]"
   ]
  },
  {
   "cell_type": "markdown",
   "metadata": {},
   "source": [
    "몇 가지 한글 문자의 로마자 추출 결과를 확인해 보자. 특히 겹자음의 경우 하이픈('-')으로 이름이 묶여 있다는 데 유의하자."
   ]
  },
  {
   "cell_type": "code",
   "execution_count": 16,
   "metadata": {},
   "outputs": [
    {
     "name": "stdout",
     "output_type": "stream",
     "text": [
      "뷁 BWELG\n",
      "ㄱ KIYEOK\n",
      "ㄳ KIYEOK-SIOS\n",
      "ㅃ SSANGPIEUP\n",
      "ㅇ IEUNG\n",
      "ㅏ A\n",
      "ㅑ YA\n",
      "ㅟ WI\n",
      "ㅞ WE\n"
     ]
    }
   ],
   "source": [
    "string = '뷁ㄱㄳㅃㅇㅏㅑㅟㅞ'\n",
    "for char in string:\n",
    "    print(char, romanize(char))"
   ]
  },
  {
   "cell_type": "markdown",
   "metadata": {},
   "source": [
    "## 한글 음절 유형 판별하기 (예비)\n",
    "\n",
    "모든 현대 한글 음절과 자모 풀어쓰기, 일부 옛한글에 대해 음절 유형을 판별할 수 있다.\n",
    "\n",
    "```\n",
    ">>> print(toy('굼'))\n",
    "CVC\n",
    ">>> print(toy('ㄱㅜㅁ'))\n",
    "CVC\n",
    ">>> print(toy('구ᇚ'))\n",
    "CVCC\n",
    "```\n"
   ]
  },
  {
   "cell_type": "markdown",
   "metadata": {},
   "source": [
    "### 예비 절차\n"
   ]
  },
  {
   "cell_type": "markdown",
   "metadata": {},
   "source": [
    "\n",
    "지금까지 `unicodedata` 모듈의 기능을 살펴보고 몇 가지 함수를 만들었다.\n",
    "\n",
    "이제 한글 음절의 유형을 판별해 보자.\n",
    "\n",
    "가장 간단하고 명백한 경우 아래와 같은 함수를 작성할 수 있다."
   ]
  },
  {
   "cell_type": "code",
   "execution_count": 17,
   "metadata": {},
   "outputs": [],
   "source": [
    "def toy(syllable):\n",
    "    # 결과물을 초기화한다\n",
    "    output = ''\n",
    "\n",
    "    # 음절을 초성, 중성, 종성으로 분해한다\n",
    "    dec = decompose(syllable)\n",
    "    onset = dec[0] # 초성\n",
    "    nucleus = dec[1] # 중성\n",
    "    coda = dec[2:] # 종성\n",
    "    \n",
    "    # 초성: 'ㅇ'이면 초성이 없고, 'ㅇ'이 아니면 C(자음 1개)\n",
    "    # 'ㅇ'의 로마자는 'IEUNG'이다\n",
    "    if romanize(onset) == 'IEUNG':\n",
    "        pass\n",
    "    else:\n",
    "        output += 'C'\n",
    "\n",
    "    # 중성: 활음으로 시작하면 GV(이중모음), 활음으로 시작하지 않으면 V(단모음)\n",
    "    # 활음의 로마자는 'W'나 'Y'로 시작한다\n",
    "    if romanize(nucleus).startswith(('W', 'Y')):\n",
    "        output += 'GV'\n",
    "    else:\n",
    "        output += 'V'\n",
    "    \n",
    "    # 종성: 비어 있으면 종성이 없고, 단자음이면 C, 겹자음이면 CC\n",
    "    # 겹자음은 로마자에 '-'가 들어 있다\n",
    "    if coda == '':\n",
    "        pass\n",
    "    elif romanize(coda).isalpha():\n",
    "        output += 'C'\n",
    "    else:\n",
    "        output += 'CC'\n",
    "    \n",
    "    # 최종 결과를 반환한다\n",
    "    return output"
   ]
  },
  {
   "cell_type": "markdown",
   "metadata": {},
   "source": [
    "사실 위와 같이 작성하기만 해도 기본적인 상황에 적용하는 데는 문제가 없다."
   ]
  },
  {
   "cell_type": "code",
   "execution_count": 18,
   "metadata": {},
   "outputs": [
    {
     "name": "stdout",
     "output_type": "stream",
     "text": [
      "아 V\n",
      "가 CV\n",
      "야 GV\n",
      "뷁 CGVCC\n"
     ]
    }
   ],
   "source": [
    "syllables = ('아', '가', '야', '뷁')\n",
    "for syllable in syllables:\n",
    "    print(syllable, toy(syllable))"
   ]
  },
  {
   "cell_type": "markdown",
   "metadata": {},
   "source": [
    "위와 같이 현대 한글 음절의 경우는 잘 작동한다."
   ]
  },
  {
   "cell_type": "code",
   "execution_count": 19,
   "metadata": {},
   "outputs": [
    {
     "name": "stdout",
     "output_type": "stream",
     "text": [
      "ㅂㅏㄺ CVCC\n",
      "ㄴㅔ CV\n",
      "ㅇㅛ GV\n"
     ]
    }
   ],
   "source": [
    "syllables_jamo = ('ㅂㅏㄺ', 'ㄴㅔ', 'ㅇㅛ')\n",
    "for syllable in syllables_jamo:\n",
    "    print(syllable, toy(syllable))"
   ]
  },
  {
   "cell_type": "markdown",
   "metadata": {},
   "source": [
    "심지어 자모로 풀어써서 넣어도 잘 작동한다."
   ]
  },
  {
   "cell_type": "code",
   "execution_count": 20,
   "metadata": {},
   "outputs": [
    {
     "name": "stdout",
     "output_type": "stream",
     "text": [
      "구ᇚ CVCC\n",
      "ᄃᆞᆯ CVC\n"
     ]
    }
   ],
   "source": [
    "syllables_archaic_good = ('구ᇚ', 'ᄃᆞᆯ')\n",
    "for syllable in syllables_archaic_good:\n",
    "    print(syllable, toy(syllable))"
   ]
  },
  {
   "cell_type": "markdown",
   "metadata": {},
   "source": [
    "일부 옛한글에 대해서도 잘 작동한다. 여기까지 보면 괜찮은 것 같다.\n",
    "\n",
    "하지만 잘 작동하지 않는 경우도 있다."
   ]
  },
  {
   "cell_type": "markdown",
   "metadata": {},
   "source": [
    "### 문제점"
   ]
  },
  {
   "cell_type": "code",
   "execution_count": 21,
   "metadata": {},
   "outputs": [
    {
     "name": "stdout",
     "output_type": "stream",
     "text": [
      "ᄣᆞᆯ CVC\n",
      "ᄎᆔ CGV\n"
     ]
    }
   ],
   "source": [
    "syllables_archaic_bad = ('ᄣᆞᆯ', 'ᄎᆔ')\n",
    "for syllable in syllables_archaic_bad:\n",
    "    print(syllable, toy(syllable))"
   ]
  },
  {
   "cell_type": "markdown",
   "metadata": {},
   "source": [
    "우선 위와 같이 'ᄣᆞᆯ'(CCCVC), 'ᄎᆔ'(CGVV)와 같은 옛한글은 음절 유형을 잘못 추출하는 경우도 있다."
   ]
  },
  {
   "cell_type": "code",
   "execution_count": 22,
   "metadata": {},
   "outputs": [
    {
     "data": {
      "text/plain": [
       "'CVC'"
      ]
     },
     "execution_count": 22,
     "metadata": {},
     "output_type": "execute_result"
    }
   ],
   "source": [
    "toy('ㅂㅂㅂ')"
   ]
  },
  {
   "cell_type": "markdown",
   "metadata": {},
   "source": [
    "이뿐만 아니라 'ㅂㅂㅂ'처럼 음절을 이루지 않는 한글 문자열도 음절 유형이 추출되어 버린다.\n",
    "\n",
    "이후의 내용에서는 아래의 두 문제를 해결하고자 한다.\n",
    "\n",
    "1. 임의의 옛한글 음절이 주어졌을 때 음절 유형을 정확하게 판별한다.\n",
    "2. 인자의 값이 정확히 한글 음절을 이루는 경우에만 음절 유형을 반환한다."
   ]
  },
  {
   "cell_type": "markdown",
   "metadata": {},
   "source": [
    "## 한글 음절 유형 판별하기 (기본)\n",
    "\n",
    "1음절로 표현되는 모든 옛한글과 자모 풀어쓰기에 대해 음절 유형을 판별할 수 있다.\n",
    "\n",
    "```\n",
    ">>> print(get_syllable_type('ᄣᆞᆯ'))\n",
    "CCCVC\n",
    "```"
   ]
  },
  {
   "cell_type": "markdown",
   "metadata": {},
   "source": [
    "### 자모 단위로 유형 판별하기"
   ]
  },
  {
   "cell_type": "markdown",
   "metadata": {},
   "source": [
    "#### 준비물"
   ]
  },
  {
   "cell_type": "markdown",
   "metadata": {},
   "source": [
    "음절 유형을 더 정교하게 판별하기 위해 음절을 초성, 중성, 종성으로 분리해서 각각의 유형을 분류하는 방식으로 접근하고자 한다.\n",
    "\n",
    "이를 위해 우선 한글 자모가 주어졌을 때 초성인지 아닌지 등을 판별하는 함수를 만들어 놓자."
   ]
  },
  {
   "cell_type": "code",
   "execution_count": 23,
   "metadata": {},
   "outputs": [],
   "source": [
    "def is_choseong(jamo):\n",
    "    return name(jamo).startswith('HANGUL CHOSEONG')\n",
    "\n",
    "def is_jungseong(jamo):\n",
    "    return name(jamo).startswith('HANGUL JUNGSEONG')\n",
    "\n",
    "def is_jongseong(jamo):\n",
    "    return name(jamo).startswith('HANGUL JONGSEONG')"
   ]
  },
  {
   "cell_type": "code",
   "execution_count": 24,
   "metadata": {},
   "outputs": [
    {
     "name": "stdout",
     "output_type": "stream",
     "text": [
      "('ᄀ', 'ᆨ', 'ㄱ')\n",
      "('KIYEOK', 'KIYEOK', 'KIYEOK')\n",
      "(True, False, False)\n",
      "(False, True, False)\n"
     ]
    }
   ],
   "source": [
    "# 예시: 세 종류의 'ㄱ'\n",
    "\n",
    "choseong, _, jongseong = decompose('각')\n",
    "letter = 'ㄱ'\n",
    "\n",
    "kiyeoks = choseong, jongseong, letter\n",
    "print(kiyeoks)\n",
    "print(tuple(map(romanize, kiyeoks)))\n",
    "print(tuple(map(is_choseong, kiyeoks)))\n",
    "print(tuple(map(is_jongseong, kiyeoks)))"
   ]
  },
  {
   "cell_type": "markdown",
   "metadata": {},
   "source": [
    "다음으로 임의의 한글 자음(CHOSEONG, JONGSEONG, LETTER) 문자를 초성이나 종성으로, 모음(JUNGSEONG, LETTER) 문자를 중성으로 변환하는 함수를 만들자."
   ]
  },
  {
   "cell_type": "code",
   "execution_count": 25,
   "metadata": {},
   "outputs": [],
   "source": [
    "def to_choseong(jamo):\n",
    "    try:\n",
    "        jname = name(jamo)\n",
    "        return lookup(re.sub('LETTER|JONGSEONG', 'CHOSEONG', jname))\n",
    "    except:\n",
    "        return jamo\n",
    "\n",
    "def to_jungseong(jamo):\n",
    "    try:\n",
    "        jname = name(jamo)\n",
    "        return lookup(jname.replace('LETTER', 'JUNGSEONG'))\n",
    "    except:\n",
    "        return jamo\n",
    "\n",
    "def to_jongseong(jamo):\n",
    "    try:\n",
    "        jname = name(jamo)\n",
    "        return lookup(re.sub('LETTER|CHOSEONG', 'JONGSEONG', jname))\n",
    "    except:\n",
    "        return jamo"
   ]
  },
  {
   "cell_type": "markdown",
   "metadata": {},
   "source": [
    "#### 초성 유형 식별하기"
   ]
  },
  {
   "cell_type": "markdown",
   "metadata": {},
   "source": [
    "이제 1음절을 이루는 초성, 중성, 종성의 유형을 각각 판별할 것이다.\n",
    "\n",
    "여기에서는 인자의 값이 정확히 한글 음절을 이루는 경우에만 음절 유형을 반환하고자 한다.\n",
    "\n",
    "그러므로 초성을 위한 함수에서는 초성(CHOSEONG)이나 호환성(LETTER) 문자가 들어오는 경우에만 자음 유형을 판별하고, 이외의 문자는 오류를 일으키자.\n",
    "\n",
    "앞서 `toy()` 함수에서는 초성 위치의 문자가 'ㅇ'이 아닌 경우 'C'를 반환하였으나, 이번에는 겹자음을 고려하기 위해 '-'의 개수를 센다.\n",
    "\n",
    "하이픈이 0개인 경우 단자음(C), 1개인 경우 겹자음(CC), 2개의 경우 삼겹자음(CCC)이 되도록 반환값을 설정하면 된다."
   ]
  },
  {
   "cell_type": "code",
   "execution_count": 26,
   "metadata": {},
   "outputs": [],
   "source": [
    "def get_onset_type(jamo):\n",
    "  # 한글 초성 문자로 변환할 수 없는 경우 오류를 일으키고 중단한다\n",
    "  if not is_choseong(to_choseong(jamo)) or is_jongseong(jamo):\n",
    "    raise ValueError('Not a valid Hangul choseong(onset, leading consonant) character')\n",
    "\n",
    "  roman = romanize(jamo)\n",
    "\n",
    "  # 문자가 'ㅇ'인 경우 C가 없다\n",
    "  if romanize(jamo) == 'IEUNG':\n",
    "    return ''\n",
    "  \n",
    "  # 옛한글 대응: '-'로 결합한 자음의 개수만큼 C를 내보낸다\n",
    "  return (roman.count('-')+1) * 'C'"
   ]
  },
  {
   "cell_type": "markdown",
   "metadata": {},
   "source": [
    "이 함수를 자음 문자에 적용해 보면 아래의 여러 예시와 같이 의도대로 잘 작동하는 것을 볼 수 있다."
   ]
  },
  {
   "cell_type": "code",
   "execution_count": 27,
   "metadata": {},
   "outputs": [
    {
     "name": "stdout",
     "output_type": "stream",
     "text": [
      "C\n",
      "C\n"
     ]
    }
   ],
   "source": [
    "print(get_onset_type(lookup('HANGUL CHOSEONG KIYEOK'))) # 초성 문자\n",
    "print(get_onset_type(lookup('HANGUL LETTER KIYEOK'))) # 호환성 문자"
   ]
  },
  {
   "cell_type": "code",
   "execution_count": 28,
   "metadata": {},
   "outputs": [],
   "source": [
    "# print(get_onset_type(lookup('HANGUL JONGSEONG KIYEOK'))) # 종성 문자는 ValueError를 일으킨다"
   ]
  },
  {
   "cell_type": "code",
   "execution_count": 29,
   "metadata": {},
   "outputs": [
    {
     "name": "stdout",
     "output_type": "stream",
     "text": [
      "CCC\n"
     ]
    }
   ],
   "source": [
    "print(get_onset_type(lookup('HANGUL CHOSEONG PIEUP-SIOS-TIKEUT'))) # 옛한글 3중자음"
   ]
  },
  {
   "cell_type": "markdown",
   "metadata": {},
   "source": [
    "### 중성 유형 식별하기\n",
    "\n",
    "중성의 경우도 `toy()`의 내용을 개선하여 인자의 유형을 제한하고, 겹모음을 허용할 수 있도록 한다."
   ]
  },
  {
   "cell_type": "code",
   "execution_count": 30,
   "metadata": {},
   "outputs": [],
   "source": [
    "def get_nucleus_type(jamo, GLIDES=re.compile(r'^[WY]')):\n",
    "  # 한글 중성 문자로 변환할 수 없는 경우 오류를 일으키고 중단한다\n",
    "  if not is_jungseong(to_jungseong(jamo)):\n",
    "    raise ValueError('Not a valid Hangul jungseong(nucleus, vowel) character')\n",
    "\n",
    "  roman = romanize(jamo)\n",
    "  output = ''\n",
    "  \n",
    "  # 옛한글 대응: '-'로 분리된 모음의 개수만큼 V 혹은 GV를 내보낸다\n",
    "  for vowel in roman.split('-'):\n",
    "    output += ('GV' if GLIDES.search(vowel) else 'V')\n",
    "  \n",
    "  return output"
   ]
  },
  {
   "cell_type": "code",
   "execution_count": 31,
   "metadata": {},
   "outputs": [
    {
     "name": "stdout",
     "output_type": "stream",
     "text": [
      "GVV\n",
      "GVV\n"
     ]
    }
   ],
   "source": [
    "print(get_nucleus_type(lookup('HANGUL JUNGSEONG YU-I')))\n",
    "print(get_nucleus_type(lookup('HANGUL LETTER YU-I')))"
   ]
  },
  {
   "cell_type": "code",
   "execution_count": 32,
   "metadata": {},
   "outputs": [],
   "source": [
    "# print(get_nucleus_type('ㅊ'))"
   ]
  },
  {
   "cell_type": "markdown",
   "metadata": {},
   "source": [
    "### 종성 유형 식별하기\n",
    "\n",
    "종성 유형은 'ㅇ'이 자음 음가를 가지고 있으므로 초성 유형보다 조금 더 간단하게 판별할 수 있다."
   ]
  },
  {
   "cell_type": "code",
   "execution_count": 33,
   "metadata": {},
   "outputs": [],
   "source": [
    "def get_coda_type(jamo):\n",
    "  # 한글 종성 문자로 변환할 수 없는 경우 오류를 일으키고 중단한다\n",
    "  if not is_jongseong(to_jongseong(jamo)) or is_choseong(jamo):\n",
    "    raise ValueError('Not a valid Hangul jongseong(coda, trailing consonant) character')\n",
    "\n",
    "  roman = romanize(jamo)\n",
    "\n",
    "  # 옛한글 대응: '-'로 결합한 자음의 개수만큼 C를 내보낸다\n",
    "  return (roman.count('-')+1) * 'C'"
   ]
  },
  {
   "cell_type": "code",
   "execution_count": 34,
   "metadata": {},
   "outputs": [
    {
     "name": "stdout",
     "output_type": "stream",
     "text": [
      "C\n",
      "C\n"
     ]
    }
   ],
   "source": [
    "print(get_coda_type(lookup('HANGUL JONGSEONG YESIEUNG')))\n",
    "print(get_coda_type(lookup('HANGUL LETTER YESIEUNG')))"
   ]
  },
  {
   "cell_type": "code",
   "execution_count": 35,
   "metadata": {},
   "outputs": [],
   "source": [
    "# print(get_coda_type(lookup('HANGUL CHOSEONG YESIEUNG')))"
   ]
  },
  {
   "cell_type": "markdown",
   "metadata": {},
   "source": [
    "### 음절 여부 판별하기"
   ]
  },
  {
   "cell_type": "markdown",
   "metadata": {},
   "source": [
    "실제 음절에 대해서만 음절 유형을 판별하기 위해서는, 주어진 문자열이 한글 음절인지 아닌지를 판별해야 한다.\n",
    "\n",
    "우선 1개 문자가 한글 음절인지 아닌지는 문자의 유니코드 이름으로 쉽게 판별할 수 있다."
   ]
  },
  {
   "cell_type": "code",
   "execution_count": 36,
   "metadata": {},
   "outputs": [],
   "source": [
    "def is_syllable(char):\n",
    "  try:\n",
    "    return name(char).startswith('HANGUL SYLLABLE')\n",
    "  except ValueError:\n",
    "    return False\n",
    "  except TypeError:\n",
    "    return False"
   ]
  },
  {
   "cell_type": "code",
   "execution_count": 37,
   "metadata": {},
   "outputs": [
    {
     "name": "stdout",
     "output_type": "stream",
     "text": [
      "True\n",
      "False\n",
      "False\n"
     ]
    }
   ],
   "source": [
    "print(is_syllable('앍')) # 음절 문자임\n",
    "print(is_syllable('ㅇ')) # 음절 문자가 아님\n",
    "print(is_syllable('ㅏ')) # 음절 문자가 아님"
   ]
  },
  {
   "cell_type": "markdown",
   "metadata": {},
   "source": [
    "그런데 1개 음절이 자모로 분해된 문자열의 경우는 대응할 수 없다."
   ]
  },
  {
   "cell_type": "code",
   "execution_count": 38,
   "metadata": {},
   "outputs": [
    {
     "name": "stdout",
     "output_type": "stream",
     "text": [
      "False\n"
     ]
    }
   ],
   "source": [
    "print(is_syllable(decompose('앍')))"
   ]
  },
  {
   "cell_type": "markdown",
   "metadata": {},
   "source": [
    "자모의 연쇄가 한글 음절을 이루는지 아닌지를 판별하는 함수를 추가로 만들자.\n",
    "\n",
    "첫 번째 문자를 초성으로 변환할 수 있고, 두 번쨰 문자를 중성으로 변환할 수 있고, 세 번째 문자가 문자가 존재하는 경우 종성으로 변환할 수 있는 경우 True, 이외의 경우는 모두 False를 반환하면 된다."
   ]
  },
  {
   "cell_type": "code",
   "execution_count": 39,
   "metadata": {},
   "outputs": [],
   "source": [
    "def is_jamo_syllable(string):\n",
    "    try:\n",
    "        onset, nucleus = string[0:2]\n",
    "        result = is_choseong(to_choseong(onset)) and is_jungseong(to_jungseong(nucleus))\n",
    "        coda = string[2:]\n",
    "        if coda:\n",
    "            result = result and is_jongseong(to_jongseong(coda))\n",
    "    except:\n",
    "        return False\n",
    "    \n",
    "    return result"
   ]
  },
  {
   "cell_type": "code",
   "execution_count": 40,
   "metadata": {},
   "outputs": [
    {
     "name": "stdout",
     "output_type": "stream",
     "text": [
      "True\n",
      "False\n",
      "False\n",
      "True\n"
     ]
    }
   ],
   "source": [
    "print(is_jamo_syllable('ㄱㅏㅁ'))\n",
    "print(is_jamo_syllable('ㄱㅏㅁ4'))\n",
    "print(is_jamo_syllable('ㄱㅏㅁㅁ'))\n",
    "print(is_jamo_syllable('ᄣᆞᆯ'))"
   ]
  },
  {
   "cell_type": "markdown",
   "metadata": {},
   "source": [
    "두 함수를 조합하여 주어진 문자열이 한글 음절인지 아닌지를 판별하는 함수를 만들 수 있다."
   ]
  },
  {
   "cell_type": "code",
   "execution_count": 41,
   "metadata": {},
   "outputs": [],
   "source": [
    "def is_any_syllable(string):\n",
    "    return is_jamo_syllable(string) or is_syllable(string)"
   ]
  },
  {
   "cell_type": "code",
   "execution_count": 42,
   "metadata": {},
   "outputs": [
    {
     "name": "stdout",
     "output_type": "stream",
     "text": [
      "False\n",
      "True\n",
      "True\n",
      "True\n",
      "True\n",
      "False\n"
     ]
    }
   ],
   "source": [
    "print(is_any_syllable('ㅇ'))\n",
    "print(is_any_syllable('앆'))\n",
    "print(is_any_syllable(decompose('앆')))\n",
    "print(is_any_syllable('ㅇㅏ'))\n",
    "print(is_any_syllable('ㅇㅏㄲ'))\n",
    "print(is_any_syllable('ㅇㅏㅇㅇ'))"
   ]
  },
  {
   "cell_type": "markdown",
   "metadata": {},
   "source": [
    "위의 예시에서 볼 수 있듯이 '앆', decompose('앆'), 'ㅇㅏㄲ'과 같은 다양한 음절 표현 방식을 모두 판별할 수 있다."
   ]
  },
  {
   "cell_type": "markdown",
   "metadata": {},
   "source": [
    "### 최종: 음절 유형 식별하기\n",
    "\n",
    "이제 한글 1음절을 표현하는 문자열이 주어졌을 때 해당 음절의 유형을 식별할 수 있다.\n",
    "\n",
    "아래의 코드에서는 'ㅋㅋㅋ' 등 더 다양한 경우에 사용할 수 있도록 자음 1개나 모음 1개의 경우에도 'C' 또는 'V'를 반환하는 내용을 추가했다."
   ]
  },
  {
   "cell_type": "code",
   "execution_count": 43,
   "metadata": {},
   "outputs": [],
   "source": [
    "def get_syllable_type(syl):\n",
    "  '''\n",
    "  >>> get_syllable_type('ㅂ')\n",
    "  'C'\n",
    "  >>> get_syllable_type('ㅏ')\n",
    "  'V'\n",
    "  >>> get_syllable_type('밤')\n",
    "  'CVC'\n",
    "  >>> get_syllable_type('ㅂㅏ')\n",
    "  'CV'\n",
    "  '''\n",
    "  # HANGUL SYLLABLE: need to be decomposed\n",
    "  if is_any_syllable(syl):\n",
    "    dec = decompose(syl)\n",
    "\n",
    "  # Consonant jamo only\n",
    "  elif is_choseong(to_choseong(syl)):\n",
    "    return get_onset_type(syl)\n",
    "\n",
    "  elif is_jongseong(to_jongseong(syl)):\n",
    "    return get_coda_type(syl)\n",
    "\n",
    "  # Vowel jamo only\n",
    "  elif is_jungseong(to_jungseong(syl)):\n",
    "    return get_nucleus_type(syl)\n",
    "\n",
    "  else:\n",
    "    return None\n",
    "  \n",
    "  onset, nucleus = dec[0:2]\n",
    "  output = get_onset_type(onset) + get_nucleus_type(nucleus)\n",
    "\n",
    "  coda = dec[2:]\n",
    "  if coda:\n",
    "    output += get_coda_type(coda)\n",
    "  \n",
    "  return output"
   ]
  },
  {
   "cell_type": "code",
   "execution_count": 44,
   "metadata": {},
   "outputs": [
    {
     "name": "stdout",
     "output_type": "stream",
     "text": [
      "C\n"
     ]
    }
   ],
   "source": [
    "consonant = 'ㄸ'\n",
    "print(get_syllable_type(consonant))"
   ]
  },
  {
   "cell_type": "code",
   "execution_count": 45,
   "metadata": {},
   "outputs": [
    {
     "name": "stdout",
     "output_type": "stream",
     "text": [
      "GV\n"
     ]
    }
   ],
   "source": [
    "vowel = 'ㅑ'\n",
    "print(get_syllable_type(vowel))"
   ]
  },
  {
   "cell_type": "code",
   "execution_count": 46,
   "metadata": {},
   "outputs": [
    {
     "name": "stdout",
     "output_type": "stream",
     "text": [
      "None\n"
     ]
    }
   ],
   "source": [
    "print(get_syllable_type('3')) # None"
   ]
  },
  {
   "cell_type": "code",
   "execution_count": 47,
   "metadata": {},
   "outputs": [
    {
     "name": "stdout",
     "output_type": "stream",
     "text": [
      "CGVCC\n"
     ]
    }
   ],
   "source": [
    "syl = 'ㄲㅑㄳ'\n",
    "print(get_syllable_type(syl))"
   ]
  },
  {
   "cell_type": "code",
   "execution_count": 48,
   "metadata": {},
   "outputs": [
    {
     "name": "stdout",
     "output_type": "stream",
     "text": [
      "CCCVC\n"
     ]
    }
   ],
   "source": [
    "syl1 = 'ᄣᆞᆯ'\n",
    "print(get_syllable_type(syl1))"
   ]
  },
  {
   "cell_type": "code",
   "execution_count": 49,
   "metadata": {},
   "outputs": [
    {
     "name": "stdout",
     "output_type": "stream",
     "text": [
      "CGVV\n"
     ]
    }
   ],
   "source": [
    "syl2 = 'ᄎᆔ'\n",
    "print(get_syllable_type(syl2))"
   ]
  },
  {
   "cell_type": "code",
   "execution_count": 50,
   "metadata": {},
   "outputs": [
    {
     "name": "stdout",
     "output_type": "stream",
     "text": [
      "CVVC\n"
     ]
    }
   ],
   "source": [
    "print(get_syllable_type('ᄇᆡᆨ'))"
   ]
  },
  {
   "cell_type": "markdown",
   "metadata": {},
   "source": [
    "겹자음 초성이나 겹모음 중성을 가진 경우에도 잘 작동하는 것을 확인할 수 있다.\n",
    "\n",
    "여기에서 더 확장된 내용을 알고 싶은 경우 아래를 읽고 문제를 풀어 보자. (관심이 없으면 읽지 않아도 된다.)"
   ]
  },
  {
   "cell_type": "markdown",
   "metadata": {},
   "source": [
    "## [숙제14심화] 한글 음절 유형 판별하기 (확장) [주의: 어려움]\n",
    "\n",
    "임의의 한글 문자열이 주어졌을 때 (1) 문자열 내에서 가능한 음절을 모두 조합하고 (2) 모든 음절 유형을 추출할 수 있다.\n",
    "\n",
    "```\n",
    ">>> print(syllabify_many('ㅺㅜㄹ1ㅁㅡㄹ'))\n",
    "('ᄭᅮᆯ', '1', '믈')\n",
    ">>> print(get_syllable_types('ㅺㅜㄹ1ㅁㅡㄹ'))\n",
    "('CCVC', 'CVC')\n",
    "```\n",
    "\n",
    "(1)과 (2) 두 가지 목표를 달성하기 위해 아래의 세 가지 함수를 활용할 수 있다."
   ]
  },
  {
   "cell_type": "markdown",
   "metadata": {},
   "source": [
    "### 재료 1. 주어진 문자열이 한글로만 이루어져 있는지 아닌지 판별하는 함수"
   ]
  },
  {
   "cell_type": "code",
   "execution_count": 51,
   "metadata": {},
   "outputs": [],
   "source": [
    "def ishangul(string:str):\n",
    "    if string:\n",
    "        return all(name(char).startswith('HANGUL') for char in string)\n",
    "    else:\n",
    "        return False"
   ]
  },
  {
   "cell_type": "code",
   "execution_count": 52,
   "metadata": {},
   "outputs": [
    {
     "name": "stdout",
     "output_type": "stream",
     "text": [
      "ㄱ True\n",
      "ㅏ True\n",
      "ㅏㄴ True\n",
      "만 True\n",
      "만ㄴ True\n",
      "만1 False\n"
     ]
    }
   ],
   "source": [
    "strings = ('ㄱ', 'ㅏ', 'ㅏㄴ', '만', '만ㄴ', '만1')\n",
    "for string in strings:\n",
    "    print(string, ishangul(string))"
   ]
  },
  {
   "cell_type": "markdown",
   "metadata": {},
   "source": [
    "### 재료 2. 1음절의 자모 풀어쓰기를 1개의 음절 문자로 조합하는 함수"
   ]
  },
  {
   "cell_type": "code",
   "execution_count": 53,
   "metadata": {},
   "outputs": [],
   "source": [
    "def syllabify_one(jamos):\n",
    "    output = ''\n",
    "    if 2 <= len(jamos) <= 3:\n",
    "        output += to_choseong(jamos[0])\n",
    "        output += to_jungseong(jamos[1])\n",
    "    if len(jamos) == 3:\n",
    "        output += to_jongseong(jamos[2])\n",
    "    \n",
    "    if output:\n",
    "        return normalize('NFKC', output)\n",
    "    else:\n",
    "        return jamos"
   ]
  },
  {
   "cell_type": "code",
   "execution_count": 54,
   "metadata": {},
   "outputs": [
    {
     "name": "stdout",
     "output_type": "stream",
     "text": [
      "앍\n",
      "ㅇㅏㄻㅁ\n",
      "1234\n"
     ]
    }
   ],
   "source": [
    "print(syllabify_one('ㅇㅏㄺ')) # 조합 가능\n",
    "print(syllabify_one('ㅇㅏㄻㅁ')) # 조합 불가능\n",
    "print(syllabify_one('1234')) # 조합 불가능"
   ]
  },
  {
   "cell_type": "markdown",
   "metadata": {},
   "source": [
    "### 재료 3. 한글 자모 문자(CHOSEONG, JUNGSEONG, JONGSEONG)를 한글 호환성 문자(LETTER)로 변환하는 함수"
   ]
  },
  {
   "cell_type": "code",
   "execution_count": 55,
   "metadata": {},
   "outputs": [],
   "source": [
    "def to_letter(jamo):\n",
    "    try:\n",
    "        jname = name(jamo)\n",
    "        return lookup(re.sub('(?:CHO|JUNG|JONG)SEONG', 'LETTER', jname))\n",
    "    except:\n",
    "        return jamo"
   ]
  },
  {
   "cell_type": "code",
   "execution_count": 56,
   "metadata": {},
   "outputs": [],
   "source": [
    "def to_letters(jamos):\n",
    "    return ''.join(to_letter(jamo) for jamo in jamos)"
   ]
  },
  {
   "cell_type": "markdown",
   "metadata": {},
   "source": [
    "### Q1. 임의의 길이의 한글 문자열에서 조합할 수 있는 모든 음절을 조합하는 함수 (최대 2점)\n",
    "\n",
    "문자열 'ㅂㅏㅂㅏㅁㅂㅏ'를 튜플 ('바', '밤', '바')로 변환할 수 있도록 아래의 함수를 완성하라."
   ]
  },
  {
   "cell_type": "code",
   "execution_count": 57,
   "metadata": {},
   "outputs": [],
   "source": [
    "def syllabify_many(jamos):\n",
    "    jamos = to_letters(jamos)\n",
    "\n",
    "    # [hw14adv] Q1\n",
    "    # DO SOMETHING HERE\n",
    "    # DO SOMETHING HERE\n",
    "    \n",
    "    return tuple() # EDIT THIS LINE"
   ]
  },
  {
   "cell_type": "markdown",
   "metadata": {},
   "source": [
    "#### Q1 힌트\n",
    "\n",
    "1. 'ㅂㅏ', 'ㅂㅏㅁ' 등 1개 음절을 풀어쓴 문자열을 매치시킬 수 있는 정규표현식을 작성한다.\n",
    "2. 모든 한글 자모를 호환성(LETTER) 문자로 통일하면 정규표현식을 좀 더 쉽게 작성할 수 있다.\n",
    "\n",
    "#### Q1 채점 기준\n",
    "\n",
    "1. 'ㅂㅏㅂㅏㅁㅂㅏ'처럼 현대 한글 자모만으로 이루어진 문자열을 음절화할 수 있다. (1점)\n",
    "2. 옛한글 자모를 포함한 문자열을 음절화할 수 있다. (+0.5점)\n",
    "3. ':ㄱㅣㅁ4ㅂㅏㅂ'의 ':'처럼 한글이 아닌 문자도 반환값에 포함한다. (+0.5점)"
   ]
  },
  {
   "cell_type": "code",
   "execution_count": 58,
   "metadata": {},
   "outputs": [
    {
     "name": "stdout",
     "output_type": "stream",
     "text": [
      "('바', '밤', '바')\n"
     ]
    }
   ],
   "source": [
    "# 요구사항 1 (1점)\n",
    "jamos = 'ㅂㅏㅂㅏㅁㅂㅏ'\n",
    "print(syllabify_many(jamos))"
   ]
  },
  {
   "cell_type": "code",
   "execution_count": 59,
   "metadata": {},
   "outputs": [
    {
     "name": "stdout",
     "output_type": "stream",
     "text": [
      "('ᄎᆔ', '객')\n"
     ]
    }
   ],
   "source": [
    "# 요구사항 2 (+0.5점)\n",
    "jamos = 'ㅊㆌㄱㅐㄱ'\n",
    "print(syllabify_many(jamos))"
   ]
  },
  {
   "cell_type": "code",
   "execution_count": 60,
   "metadata": {},
   "outputs": [
    {
     "name": "stdout",
     "output_type": "stream",
     "text": [
      "(':', '김', '4', '밥')\n"
     ]
    }
   ],
   "source": [
    "# 요구사항 3 (+0.5점)\n",
    "jamos = ':ㄱㅣㅁ4ㅂㅏㅂ'\n",
    "print(syllabify_many(jamos))"
   ]
  },
  {
   "cell_type": "code",
   "execution_count": 61,
   "metadata": {},
   "outputs": [
    {
     "name": "stdout",
     "output_type": "stream",
     "text": [
      "('제', '2', '0', '2', '3', '年', '도', ' ', 'D', 'e', 'c', ' ', '4', '일', '.')\n"
     ]
    }
   ],
   "source": [
    "complex_jamos = '제2023年ㄷㅗ Dec 4ㅇㅣㄹ.'\n",
    "print(syllabify_many(complex_jamos))"
   ]
  },
  {
   "cell_type": "code",
   "execution_count": 62,
   "metadata": {},
   "outputs": [
    {
     "name": "stdout",
     "output_type": "stream",
     "text": [
      "('감', '2', '3')\n",
      "('돌', '김')\n",
      "('비', '빔', '밥')\n",
      "('케', '일', '리', '-', '해', '밀', '턴')\n"
     ]
    }
   ],
   "source": [
    "print(syllabify_many('ㄱㅏㅁ23'))\n",
    "print(syllabify_many('ㄷㅗㄹㄱㅣㅁ'))\n",
    "print(syllabify_many('ㅂㅣㅂㅣㅁㅂㅏㅂ'))\n",
    "print(syllabify_many('ㅋㅔㅇㅣㄹㄹㅣ-ㅎㅐㅁㅣㄹㅌㅓㄴ'))"
   ]
  },
  {
   "cell_type": "markdown",
   "metadata": {},
   "source": [
    "### Q2. 임의의 문자열이 주어졌을 때 한글 음절 유형 판별하기 (최대 1점)\n",
    "\n"
   ]
  },
  {
   "cell_type": "code",
   "execution_count": 63,
   "metadata": {},
   "outputs": [],
   "source": [
    "def get_syllable_types(string):\n",
    "    chars = syllabify_many(string)\n",
    "    \n",
    "    # [hw14adv] Q2\n",
    "    return tuple() # EDIT THIS LINE"
   ]
  },
  {
   "cell_type": "markdown",
   "metadata": {},
   "source": [
    "#### Q2 힌트\n",
    "\n",
    "1. `get_syllable_type()` 및 `ishangul()` 함수를 활용할 수 있다.\n",
    "\n",
    "#### Q3 채점 기준\n",
    "\n",
    "1. 'ㅇㅗㄱㅅㅜㅅㅜ!'처럼 음절로 표현 가능한 한글 자모와 특수문자로 이루어진 문자열에서 한글 음절 유형만을 뽑아낼 수 있다. (0.5점)\n",
    "2. 'ㅂㅏㅂㅏㅁㅁㅁㅁㅁㅂㅏ'처럼 음절로 표현되지 못하는 한글을 포함한 문자열에서 자모 유형을 함께 뽑아낼 수 있다. (+0.5점)"
   ]
  },
  {
   "cell_type": "code",
   "execution_count": 64,
   "metadata": {},
   "outputs": [
    {
     "data": {
      "text/plain": [
       "('GVCC', 'VC')"
      ]
     },
     "execution_count": 64,
     "metadata": {},
     "output_type": "execute_result"
    }
   ],
   "source": [
    "get_syllable_types('얇은')"
   ]
  },
  {
   "cell_type": "code",
   "execution_count": 65,
   "metadata": {},
   "outputs": [
    {
     "data": {
      "text/plain": [
       "('VC', 'CV', 'CV')"
      ]
     },
     "execution_count": 65,
     "metadata": {},
     "output_type": "execute_result"
    }
   ],
   "source": [
    "# 요구사항 1 (0.5점)\n",
    "get_syllable_types('ㅇㅗㄱㅅㅜㅅㅜ!')"
   ]
  },
  {
   "cell_type": "code",
   "execution_count": 66,
   "metadata": {},
   "outputs": [
    {
     "data": {
      "text/plain": [
       "('CV', 'CVC', 'CV')"
      ]
     },
     "execution_count": 66,
     "metadata": {},
     "output_type": "execute_result"
    }
   ],
   "source": [
    "get_syllable_types('ㅂㅏ밤ㅂㅏ')"
   ]
  },
  {
   "cell_type": "code",
   "execution_count": 67,
   "metadata": {},
   "outputs": [
    {
     "data": {
      "text/plain": [
       "('CV', 'CVC', 'C', 'C', 'C', 'C', 'C', 'CV')"
      ]
     },
     "execution_count": 67,
     "metadata": {},
     "output_type": "execute_result"
    }
   ],
   "source": [
    "# 요구사항 2 (+0.5점)\n",
    "get_syllable_types('ㅂㅏ밤ㅁㅁㅁㅁㅁㅂㅏ')"
   ]
  },
  {
   "cell_type": "markdown",
   "metadata": {},
   "source": [
    "### Q3. 예외 해결하기 (0.5점)\n",
    "\n",
    "`get_syllable_types()` 함수가 잘 정의되었다면, 아래 예시와 같이 `get_syllable_type()`과 같은 유형이 나와야 한다."
   ]
  },
  {
   "cell_type": "code",
   "execution_count": 68,
   "metadata": {},
   "outputs": [
    {
     "name": "stdout",
     "output_type": "stream",
     "text": [
      "CVC\n",
      "('CVC',)\n"
     ]
    }
   ],
   "source": [
    "bam = '밤'\n",
    "print(get_syllable_type(bam))\n",
    "print(get_syllable_types(bam))"
   ]
  },
  {
   "cell_type": "markdown",
   "metadata": {},
   "source": [
    "그런데 'ᄇᆡᆨ'과 같은 일부 옛한글의 경우 두 함수의 결과물이 다르게 나온다."
   ]
  },
  {
   "cell_type": "code",
   "execution_count": 69,
   "metadata": {},
   "outputs": [
    {
     "name": "stdout",
     "output_type": "stream",
     "text": [
      "CVVC\n",
      "('C', 'VV', 'C')\n"
     ]
    }
   ],
   "source": [
    "baek = 'ᄇᆡᆨ'\n",
    "print(get_syllable_type(baek))\n",
    "print(get_syllable_types(baek))"
   ]
  },
  {
   "cell_type": "markdown",
   "metadata": {},
   "source": [
    "이 문제를 해결하기 위해 아래의 두 함수를 수정하라."
   ]
  },
  {
   "cell_type": "code",
   "execution_count": 70,
   "metadata": {},
   "outputs": [],
   "source": [
    "def to_jungseong(jamo):\n",
    "    try:        \n",
    "        jname = name(jamo)\n",
    "\n",
    "        # [hw14Adv] Q3\n",
    "        # DO SOMETHING HERE\n",
    "        # DO SOMETHING HERE\n",
    "        \n",
    "        return lookup(jname.replace('LETTER', 'JUNGSEONG'))\n",
    "    \n",
    "    except:\n",
    "        return jamo\n",
    "\n",
    "def to_letter(jamo):\n",
    "    try:\n",
    "        jname = name(jamo)\n",
    "\n",
    "        # [hw14Adv] Q3\n",
    "        # DO SOMETHING HERE\n",
    "        # DO SOMETHING HERE\n",
    "        \n",
    "        return lookup(re.sub('(?:CHO|JUNG|JONG)SEONG', 'LETTER', jname))\n",
    "    \n",
    "    except:\n",
    "        return jamo"
   ]
  },
  {
   "cell_type": "markdown",
   "metadata": {},
   "source": [
    "#### Q3 힌트\n",
    "\n",
    "1. 아래의 차트에서 문자의 이름을 잘 살펴보라.\n",
    "\n",
    "   + https://unicode.org/charts/PDF/U1100.pdf HANGUL JAMO\n",
    "   + https://unicode.org/charts/PDF/U3130.pdf HANGUL COMPATIBILITY JAMO\n",
    "\n",
    "#### Q3 요구사항\n",
    "\n",
    "1. 아래의 예시에서 두 함수의 결과물이 같으면 된다. (0.5점)"
   ]
  },
  {
   "cell_type": "code",
   "execution_count": 71,
   "metadata": {},
   "outputs": [
    {
     "name": "stdout",
     "output_type": "stream",
     "text": [
      "CVVC\n",
      "('CVVC',)\n"
     ]
    }
   ],
   "source": [
    "jamos = 'ᄇᆡᆨ'\n",
    "print(get_syllable_type(jamos))\n",
    "print(get_syllable_types(jamos))"
   ]
  }
 ],
 "metadata": {
  "kernelspec": {
   "display_name": "Python 3",
   "language": "python",
   "name": "python3"
  },
  "language_info": {
   "codemirror_mode": {
    "name": "ipython",
    "version": 3
   },
   "file_extension": ".py",
   "mimetype": "text/x-python",
   "name": "python",
   "nbconvert_exporter": "python",
   "pygments_lexer": "ipython3",
   "version": "3.8.13"
  }
 },
 "nbformat": 4,
 "nbformat_minor": 2
}
