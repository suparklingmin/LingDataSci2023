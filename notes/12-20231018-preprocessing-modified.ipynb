{
 "cells": [
  {
   "cell_type": "code",
   "execution_count": 1,
   "metadata": {},
   "outputs": [],
   "source": [
    "# zip 파일을 읽기 위한 라이브러리 가져오기\n",
    "import zipfile\n",
    "\n",
    "# json 파일을 읽기 위한 라이브러리 가져오기\n",
    "import json\n",
    "\n",
    "# 상태 진행 상황을 막대로 보기\n",
    "from tqdm import tqdm\n",
    "\n",
    "# 데이터프레임으로 저장하기\n",
    "import pandas as pd"
   ]
  },
  {
   "cell_type": "code",
   "execution_count": 2,
   "metadata": {},
   "outputs": [
    {
     "name": "stderr",
     "output_type": "stream",
     "text": [
      "100%|██████████| 47424/47424 [00:30<00:00, 1544.36it/s]\n"
     ]
    }
   ],
   "source": [
    "zipfilename = \"../NIKL_OM_2021_v1.1.zip\"\n",
    "\n",
    "# 발화 리스트 초기화\n",
    "utterances_list = [] \n",
    "\n",
    "# 발화자 리스트 초기화\n",
    "speakers_list = []\n",
    "\n",
    "# 압축된 zip 파일 읽기\n",
    "with zipfile.ZipFile(zipfilename) as z:\n",
    "  # 말뭉치 압축 파일(z) 내에 들어 있는 파일을 하나씩 처리하기\n",
    "  for filename in tqdm(z.namelist()):\n",
    "    # 파일이 JSON 이외의 형식인 경우 읽지 않고 넘어가기\n",
    "    if not filename.endswith(('.json', '.JSON')):\n",
    "      continue\n",
    "\n",
    "    # JSON 파일을 열어서 그 내용을 data라는 이름으로 저장하기\n",
    "    with z.open(filename) as f:  \n",
    "      # f.read() -- binary\n",
    "      # f.read().decode('utf-8') -- str\n",
    "      data = json.loads(f.read().decode(\"utf-8\"))\n",
    "      file_id = data['id'] # id of file\n",
    "\n",
    "    # 현재 읽고 있는 파일에 포함된 문서를 하나씩 처리하기\n",
    "    # data['document'] -- list of documents\n",
    "    for document in data['document']:\n",
    "      # 발화 목록 업데이트:\n",
    "      # document['utterance'] -- list of utterances\n",
    "      for utterance in document['utterance']:\n",
    "        utterance.update({'speaker_id': f'{file_id}_{utterance[\"speaker_id\"]}'})\n",
    "        utterances_list.append(utterance)\n",
    "\n",
    "      # 발화자 목록 업데이트:\n",
    "      # 문서의 메타 정보에서 발화자 값을 하나씩 처리하기\n",
    "      # document['metadata']['speaker'] -- list of speakers\n",
    "      for speaker in document['metadata']['speaker']:\n",
    "        speaker.update({'speaker_id': f'{file_id}_{speaker[\"id\"]}'})\n",
    "        speakers_list.append(speaker)"
   ]
  },
  {
   "cell_type": "code",
   "execution_count": 3,
   "metadata": {},
   "outputs": [
    {
     "name": "stdout",
     "output_type": "stream",
     "text": [
      "{'id': 'MDRW2100000001.1.1', 'form': '안녕하세요', 'original_form': '안녕하세요', 'speaker_id': 'MDRW2100000001_1', 'time': '20210512 16:04'}\n"
     ]
    }
   ],
   "source": [
    "print(utterances_list[0])"
   ]
  },
  {
   "cell_type": "code",
   "execution_count": 39,
   "metadata": {},
   "outputs": [
    {
     "name": "stdout",
     "output_type": "stream",
     "text": [
      "{'id': '1', 'age': '20대', 'occupation': '전문가 및 관련 종사자', 'sex': '여성', 'birthplace': '울산', 'principal_residence': '전북', 'current_residence': '경기', 'device': '스마트폰', 'keyboard': '2벌식(쿼티)', 'speaker_id': 'MDRW2100000001_1'}\n"
     ]
    }
   ],
   "source": [
    "print(speakers_list[0])"
   ]
  },
  {
   "cell_type": "code",
   "execution_count": 4,
   "metadata": {},
   "outputs": [],
   "source": [
    "# utterances_list: 같은 구조의 딕셔너리로 이루어진 리스트\n",
    "df_utterances = pd.DataFrame(utterances_list).to_csv('../NIKL_OM_utterances.csv')\n",
    "\n",
    "# pd.DataFrame.drop_duplicates() 중복된 row를 지워 주는 메소드\n",
    "df_speakers = pd.DataFrame(speakers_list).drop_duplicates().to_csv('../NIKL_OM_speakers.csv')"
   ]
  },
  {
   "cell_type": "code",
   "execution_count": 43,
   "metadata": {},
   "outputs": [],
   "source": [
    "!tar -czf ../NIKL_OM_utterances.csv.tar.gz ../NIKL_OM_utterances.csv\n",
    "!tar -czf ../NIKL_OM_speakers.csv.tar.gz ../NIKL_OM_speakers.csv"
   ]
  },
  {
   "cell_type": "code",
   "execution_count": 44,
   "metadata": {},
   "outputs": [],
   "source": [
    "!rm ../NIKL_OM_2021_v1.1.zip\n",
    "!rm ../NIKL_OM_speakers.csv\n",
    "!rm ../NIKL_OM_utterances.csv"
   ]
  }
 ],
 "metadata": {
  "kernelspec": {
   "display_name": "Python 3",
   "language": "python",
   "name": "python3"
  },
  "language_info": {
   "codemirror_mode": {
    "name": "ipython",
    "version": 3
   },
   "file_extension": ".py",
   "mimetype": "text/x-python",
   "name": "python",
   "nbconvert_exporter": "python",
   "pygments_lexer": "ipython3",
   "version": "3.8.2"
  }
 },
 "nbformat": 4,
 "nbformat_minor": 2
}
