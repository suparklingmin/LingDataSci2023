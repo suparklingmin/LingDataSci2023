{
 "cells": [
  {
   "cell_type": "markdown",
   "metadata": {},
   "source": [
    "# 2023-2 언어데이터과학 24강 (2023-11-29) 실습 (3) Word2Vec을 사용한 연령별 단어 분포 비교"
   ]
  },
  {
   "cell_type": "markdown",
   "metadata": {},
   "source": [
    "## 코퍼스 준비"
   ]
  },
  {
   "cell_type": "code",
   "execution_count": 2,
   "metadata": {},
   "outputs": [],
   "source": [
    "import pandas as pd\n",
    "from gensim.models import Word2Vec"
   ]
  },
  {
   "cell_type": "code",
   "execution_count": 2,
   "metadata": {},
   "outputs": [],
   "source": [
    "DATA_PATH = '../data/NIKL_OM_form_age_sex.csv.tar.gz'"
   ]
  },
  {
   "cell_type": "code",
   "execution_count": 3,
   "metadata": {},
   "outputs": [
    {
     "data": {
      "text/html": [
       "<div>\n",
       "<style scoped>\n",
       "    .dataframe tbody tr th:only-of-type {\n",
       "        vertical-align: middle;\n",
       "    }\n",
       "\n",
       "    .dataframe tbody tr th {\n",
       "        vertical-align: top;\n",
       "    }\n",
       "\n",
       "    .dataframe thead th {\n",
       "        text-align: right;\n",
       "    }\n",
       "</style>\n",
       "<table border=\"1\" class=\"dataframe\">\n",
       "  <thead>\n",
       "    <tr style=\"text-align: right;\">\n",
       "      <th></th>\n",
       "      <th>form</th>\n",
       "      <th>speaker_id</th>\n",
       "      <th>age</th>\n",
       "      <th>sex</th>\n",
       "    </tr>\n",
       "    <tr>\n",
       "      <th>id</th>\n",
       "      <th></th>\n",
       "      <th></th>\n",
       "      <th></th>\n",
       "      <th></th>\n",
       "    </tr>\n",
       "  </thead>\n",
       "  <tbody>\n",
       "    <tr>\n",
       "      <th>MDRW2100000001.1.1</th>\n",
       "      <td>안녕하세요</td>\n",
       "      <td>MDRW2100000001_1</td>\n",
       "      <td>20대</td>\n",
       "      <td>여성</td>\n",
       "    </tr>\n",
       "    <tr>\n",
       "      <th>MDRW2100000001.1.4</th>\n",
       "      <td>이거 해봐요&gt;&lt;</td>\n",
       "      <td>MDRW2100000001_1</td>\n",
       "      <td>20대</td>\n",
       "      <td>여성</td>\n",
       "    </tr>\n",
       "    <tr>\n",
       "      <th>MDRW2100000001.1.7</th>\n",
       "      <td>오 ㅋㅋㅋㅋㅋㅋㅋㅋㅋㅋ</td>\n",
       "      <td>MDRW2100000001_1</td>\n",
       "      <td>20대</td>\n",
       "      <td>여성</td>\n",
       "    </tr>\n",
       "    <tr>\n",
       "      <th>MDRW2100000001.1.8</th>\n",
       "      <td>안챙겨도 잘커요</td>\n",
       "      <td>MDRW2100000001_1</td>\n",
       "      <td>20대</td>\n",
       "      <td>여성</td>\n",
       "    </tr>\n",
       "    <tr>\n",
       "      <th>MDRW2100000001.1.9</th>\n",
       "      <td>너무 맞는데요ㅜㅜ?</td>\n",
       "      <td>MDRW2100000001_1</td>\n",
       "      <td>20대</td>\n",
       "      <td>여성</td>\n",
       "    </tr>\n",
       "    <tr>\n",
       "      <th>...</th>\n",
       "      <td>...</td>\n",
       "      <td>...</td>\n",
       "      <td>...</td>\n",
       "      <td>...</td>\n",
       "    </tr>\n",
       "    <tr>\n",
       "      <th>MMRW2100000241.1.2774</th>\n",
       "      <td>그 낚시대회 전용 투망 있을걸???</td>\n",
       "      <td>MMRW2100000241_2</td>\n",
       "      <td>20대</td>\n",
       "      <td>여성</td>\n",
       "    </tr>\n",
       "    <tr>\n",
       "      <th>MMRW2100000241.1.2775</th>\n",
       "      <td>한 번도 안 써봄...?</td>\n",
       "      <td>MMRW2100000241_2</td>\n",
       "      <td>20대</td>\n",
       "      <td>여성</td>\n",
       "    </tr>\n",
       "    <tr>\n",
       "      <th>MMRW2100000241.1.2776</th>\n",
       "      <td>그거 개꿀인디</td>\n",
       "      <td>MMRW2100000241_2</td>\n",
       "      <td>20대</td>\n",
       "      <td>여성</td>\n",
       "    </tr>\n",
       "    <tr>\n",
       "      <th>MMRW2100000241.1.2780</th>\n",
       "      <td>ㅋㅋㅋㅋㅋㅋ잠수복 개귀여웤ㅋㅋㅋㅋ</td>\n",
       "      <td>MMRW2100000241_2</td>\n",
       "      <td>20대</td>\n",
       "      <td>여성</td>\n",
       "    </tr>\n",
       "    <tr>\n",
       "      <th>MMRW2100000241.1.2786</th>\n",
       "      <td>ㅋㅋㅋㅋㅋㅋㅋㅋㅋㅋㅋㅋㅋ가즈아!</td>\n",
       "      <td>MMRW2100000241_2</td>\n",
       "      <td>20대</td>\n",
       "      <td>여성</td>\n",
       "    </tr>\n",
       "  </tbody>\n",
       "</table>\n",
       "<p>2977840 rows × 4 columns</p>\n",
       "</div>"
      ],
      "text/plain": [
       "                                      form        speaker_id  age sex\n",
       "id                                                                   \n",
       "MDRW2100000001.1.1                   안녕하세요  MDRW2100000001_1  20대  여성\n",
       "MDRW2100000001.1.4                이거 해봐요><  MDRW2100000001_1  20대  여성\n",
       "MDRW2100000001.1.7            오 ㅋㅋㅋㅋㅋㅋㅋㅋㅋㅋ  MDRW2100000001_1  20대  여성\n",
       "MDRW2100000001.1.8                안챙겨도 잘커요  MDRW2100000001_1  20대  여성\n",
       "MDRW2100000001.1.9              너무 맞는데요ㅜㅜ?  MDRW2100000001_1  20대  여성\n",
       "...                                    ...               ...  ...  ..\n",
       "MMRW2100000241.1.2774  그 낚시대회 전용 투망 있을걸???  MMRW2100000241_2  20대  여성\n",
       "MMRW2100000241.1.2775        한 번도 안 써봄...?  MMRW2100000241_2  20대  여성\n",
       "MMRW2100000241.1.2776              그거 개꿀인디  MMRW2100000241_2  20대  여성\n",
       "MMRW2100000241.1.2780   ㅋㅋㅋㅋㅋㅋ잠수복 개귀여웤ㅋㅋㅋㅋ  MMRW2100000241_2  20대  여성\n",
       "MMRW2100000241.1.2786    ㅋㅋㅋㅋㅋㅋㅋㅋㅋㅋㅋㅋㅋ가즈아!  MMRW2100000241_2  20대  여성\n",
       "\n",
       "[2977840 rows x 4 columns]"
      ]
     },
     "execution_count": 3,
     "metadata": {},
     "output_type": "execute_result"
    }
   ],
   "source": [
    "utterances = pd.read_csv(DATA_PATH, compression='gzip', on_bad_lines='skip')\n",
    "utterances.dropna(inplace=True)\n",
    "utterances.rename(columns={utterances.columns[0]: 'id'}, inplace=True)\n",
    "utterances.set_index('id', inplace=True)\n",
    "utterances"
   ]
  },
  {
   "cell_type": "markdown",
   "metadata": {},
   "source": [
    "## 코퍼스 가공"
   ]
  },
  {
   "cell_type": "code",
   "execution_count": 4,
   "metadata": {},
   "outputs": [
    {
     "name": "stdout",
     "output_type": "stream",
     "text": [
      "id\n",
      "MDRW2100000001.1.1            [안녕하세요]\n",
      "MDRW2100000001.1.4        [이거, 해봐요><]\n",
      "MDRW2100000001.1.7    [오, ㅋㅋㅋㅋㅋㅋㅋㅋㅋㅋ]\n",
      "MDRW2100000001.1.8        [안챙겨도, 잘커요]\n",
      "MDRW2100000001.1.9      [너무, 맞는데요ㅜㅜ?]\n",
      "Name: form, dtype: object\n"
     ]
    }
   ],
   "source": [
    "corpus = utterances['form'].apply(str.split)\n",
    "print(corpus[:5])"
   ]
  },
  {
   "cell_type": "markdown",
   "metadata": {},
   "source": [
    "## 코퍼스 분할"
   ]
  },
  {
   "cell_type": "markdown",
   "metadata": {},
   "source": [
    "발화를 발화자의 연령에 따라 분할하기"
   ]
  },
  {
   "cell_type": "code",
   "execution_count": 5,
   "metadata": {},
   "outputs": [
    {
     "data": {
      "text/plain": [
       "age\n",
       "20대       1593040\n",
       "30대       1024097\n",
       "40대 이상     251095\n",
       "10대        109608\n",
       "Name: count, dtype: int64"
      ]
     },
     "execution_count": 5,
     "metadata": {},
     "output_type": "execute_result"
    }
   ],
   "source": [
    "utterances['age'].value_counts()"
   ]
  },
  {
   "cell_type": "code",
   "execution_count": 6,
   "metadata": {},
   "outputs": [
    {
     "data": {
      "text/plain": [
       "id\n",
       "MDRW2100000021.1.2                  [왜?]\n",
       "MDRW2100000021.1.4                   [왜]\n",
       "MDRW2100000021.1.5               [티브시청중]\n",
       "MDRW2100000021.1.7                   [왜]\n",
       "MDRW2100000021.1.8                  [허준]\n",
       "                              ...       \n",
       "MMRW2100000225.1.6326         [name30이?]\n",
       "MMRW2100000225.1.6349        [현금으로, 나와?]\n",
       "MMRW2100000225.1.6351       [날씨, 진짜, 덥네]\n",
       "MMRW2100000225.1.6354                [응]\n",
       "MMRW2100000225.1.6355    [오는동안이, 너무, 더워]\n",
       "Name: form, Length: 251095, dtype: object"
      ]
     },
     "execution_count": 6,
     "metadata": {},
     "output_type": "execute_result"
    }
   ],
   "source": [
    "corpus20 = None # EDIT THIS LINE\n",
    "corpus30 = None # EDIT THIS LINE\n",
    "corpus40 = None # EDIT THIS LINE\n",
    "corpus40"
   ]
  },
  {
   "cell_type": "markdown",
   "metadata": {},
   "source": [
    "## 코퍼스별 Word2Vec 모델 훈련"
   ]
  },
  {
   "cell_type": "code",
   "execution_count": 3,
   "metadata": {},
   "outputs": [],
   "source": [
    "d = 100 # dimension of word vectors\n",
    "L = 2 # window size\n",
    "k = 5 # negative samples per positive sample"
   ]
  },
  {
   "cell_type": "code",
   "execution_count": 4,
   "metadata": {},
   "outputs": [],
   "source": [
    "model20 = Word2Vec(sentences=corpus20, sg=1, min_count=5, vector_size=d, window=L, negative=k)\n",
    "model20.save('../models/word2vec-modu-online-age20s')\n",
    "# model20 = Word2Vec.load('../models/word2vec-modu-online-age20s')"
   ]
  },
  {
   "cell_type": "code",
   "execution_count": 5,
   "metadata": {},
   "outputs": [],
   "source": [
    "model30 = Word2Vec(sentences=corpus30, sg=1, min_count=5, vector_size=d, window=L, negative=k)\n",
    "model30.save('../models/word2vec-modu-online-age30s')\n",
    "# model30 = Word2Vec.load('../models/word2vec-modu-online-age30s')"
   ]
  },
  {
   "cell_type": "code",
   "execution_count": 6,
   "metadata": {},
   "outputs": [],
   "source": [
    "model40 = Word2Vec(sentences=corpus40, sg=1, min_count=5, vector_size=d, window=L, negative=k)\n",
    "model40.save('../models/word2vec-modu-online-age40s')\n",
    "# model40 = Word2Vec.load('../models/word2vec-modu-online-age40s')"
   ]
  },
  {
   "cell_type": "markdown",
   "metadata": {},
   "source": [
    "## '아주'와 '완전'의 연령별 분포 비교"
   ]
  },
  {
   "cell_type": "code",
   "execution_count": 31,
   "metadata": {},
   "outputs": [],
   "source": [
    "w1 = '아주'\n",
    "w2 = '완전'"
   ]
  },
  {
   "cell_type": "code",
   "execution_count": 8,
   "metadata": {},
   "outputs": [
    {
     "data": {
      "text/plain": [
       "[('매우', 0.8020284175872803),\n",
       " ('굉장히', 0.7713057398796082),\n",
       " ('편하고', 0.7330176830291748),\n",
       " ('시원하고', 0.7301422953605652),\n",
       " ('너무너무', 0.7273821830749512),\n",
       " ('훨', 0.7253235578536987),\n",
       " ('넘나', 0.7224512100219727),\n",
       " ('되게', 0.7221328616142273),\n",
       " ('무척', 0.720561683177948),\n",
       " ('보기', 0.7102000713348389)]"
      ]
     },
     "execution_count": 8,
     "metadata": {},
     "output_type": "execute_result"
    }
   ],
   "source": [
    "model20.wv.most_similar([w1])"
   ]
  },
  {
   "cell_type": "code",
   "execution_count": 9,
   "metadata": {},
   "outputs": [],
   "source": [
    "def get_most_similar_words(model, word, topn=30):\n",
    "    return [w for (w, _) in model.wv.most_similar([word], topn=topn)]"
   ]
  },
  {
   "cell_type": "code",
   "execution_count": 10,
   "metadata": {},
   "outputs": [
    {
     "name": "stdout",
     "output_type": "stream",
     "text": [
      "['매우', '굉장히', '편하고', '시원하고', '너무너무', '훨', '넘나', '되게', '무척', '보기', '훨씬', '워낙', '참', '나름', '너뮤', '상당히', '여러모로', '선선하니', '귀엽고', '보여서', '좋고', '은근', '완전', '짱', '예쁘고', '꽤나', '시원해서', '편해서', '추운게', '선선하고']\n",
      "['매우', '넘나', '생각보다', '나름', '은근', '되게', '훨', '보기', '훨씬', '너무너무', '굉장히', '기분이', '참', '가격도', '무척', '편하고', '은근히', '살짝', '맛도', '싸고', '무지', '시원해서', '좀더', '워낙', '영', '날씨도', '맛있고', '그래두', '하도', '들어서']\n",
      "['몰라요', 'ㅎㅎㅎㅎ', '맞아요..', '오호', '그럼요', '헙', '그런게', '감사해요', '아무래도', '역시', '와우', '저만', '모르겠어요', '맛있죠', '다행이네요', '요샌', '저런저런', '못해요', '대단', '맛나요', '느낌', '네네', '둘다', '그것도', '맛이', '그런가', '세상에', '저두요', '아니요', '저희도']\n"
     ]
    }
   ],
   "source": [
    "# w1: '아주'\n",
    "print(get_most_similar_words(model20, w1))\n",
    "print(get_most_similar_words(model30, w1))\n",
    "print(get_most_similar_words(model40, w1))"
   ]
  },
  {
   "cell_type": "code",
   "execution_count": 11,
   "metadata": {},
   "outputs": [
    {
     "name": "stdout",
     "output_type": "stream",
     "text": [
      "['짱', '넘나', '너무너무', '겁나', '되게', '대박', '아주', '넘', '디게', '왕', '연기', '들어도', '너뮤', '생각만해도', '굉장히', '진쨔', '졸라', '은근', 'ㅈㄴ', '왤캐', '!!!', '겁내', '진짜..', '!!!!', '목소리', '귀엽고', '최고', '으악', '진짜진짜', '매우']\n",
      "['대박', '너무너무', '넘나', '짱', '되게', '겁나', '은근', 'ㅠㅠㅠㅠㅠ', '우왕', '크', '참', '넘', '맛있고', '매우', '무지', '최고', '진짜', '세상', '와우', '생각만해도', '정말', '굉장히', '좋다', 'ㅜㅜㅜ', '!!', 'ㅋㅋㅋㅋ아', '아주', '맛있겠다', '둘다', '증말']\n",
      "['그쵸', 'ㅋㅋㅋㅋㅋ', '대박', '저런', '역시', '그렇죠', '헐', '그러게요', '저도요', '좋네요', 'ㅎㅎㅎ', '그것도', '헉', '앗', '웃겨', '아하', '웅', '그런가요', 'ㅋㅋㅋㅋㅋㅋ', '벌써', '그건', 'ㅎㅎㅎㅎ', '다들', '그래요?', '좋네', '그래요', '그렇구나', '좋죠', '그러시군요', '우와']\n"
     ]
    }
   ],
   "source": [
    "# w2: '완전'\n",
    "print(get_most_similar_words(model20, w2))\n",
    "print(get_most_similar_words(model30, w2))\n",
    "print(get_most_similar_words(model40, w2))"
   ]
  },
  {
   "cell_type": "code",
   "execution_count": 21,
   "metadata": {},
   "outputs": [
    {
     "data": {
      "text/plain": [
       "[('짱', 0.8095357418060303),\n",
       " ('넘나', 0.8067042231559753),\n",
       " ('너무너무', 0.7877914905548096),\n",
       " ('매우', 0.7732204794883728),\n",
       " ('굉장히', 0.7706792950630188),\n",
       " ('되게', 0.7693825960159302),\n",
       " ('겁나', 0.7388333678245544),\n",
       " ('너뮤', 0.7318142056465149),\n",
       " ('무척', 0.7240220904350281),\n",
       " ('넘', 0.7208937406539917)]"
      ]
     },
     "execution_count": 21,
     "metadata": {},
     "output_type": "execute_result"
    }
   ],
   "source": [
    "model20.wv.most_similar(positive=['아주', '완전'])"
   ]
  },
  {
   "cell_type": "code",
   "execution_count": 22,
   "metadata": {},
   "outputs": [
    {
     "data": {
      "text/plain": [
       "[('넘나', 0.879448413848877),\n",
       " ('너무너무', 0.8639437556266785),\n",
       " ('매우', 0.8635697364807129),\n",
       " ('되게', 0.8561486005783081),\n",
       " ('은근', 0.8422956466674805),\n",
       " ('참', 0.8250255584716797),\n",
       " ('굉장히', 0.8187215924263),\n",
       " ('생각보다', 0.8132363557815552),\n",
       " ('겁나', 0.8108944892883301),\n",
       " ('무지', 0.807982325553894)]"
      ]
     },
     "execution_count": 22,
     "metadata": {},
     "output_type": "execute_result"
    }
   ],
   "source": [
    "model30.wv.most_similar(positive=['아주', '완전'])"
   ]
  },
  {
   "cell_type": "code",
   "execution_count": 23,
   "metadata": {},
   "outputs": [
    {
     "data": {
      "text/plain": [
       "[('역시', 0.9787756204605103),\n",
       " ('그쵸', 0.9763455986976624),\n",
       " ('ㅎㅎㅎㅎ', 0.9728397727012634),\n",
       " ('그러게요', 0.9717161655426025),\n",
       " ('그것도', 0.9711495041847229),\n",
       " ('오호', 0.9670016765594482),\n",
       " ('저도요', 0.9667932987213135),\n",
       " ('그런가요', 0.9662917256355286),\n",
       " ('ㅋㅋㅋㅋㅋㅋ', 0.9652441740036011),\n",
       " ('좋네', 0.9650589227676392)]"
      ]
     },
     "execution_count": 23,
     "metadata": {},
     "output_type": "execute_result"
    }
   ],
   "source": [
    "model40.wv.most_similar(positive=['아주', '완전'])"
   ]
  },
  {
   "cell_type": "code",
   "execution_count": 39,
   "metadata": {},
   "outputs": [
    {
     "name": "stdout",
     "output_type": "stream",
     "text": [
      "['엄청', '넘', '참', '정말', '진짜', '젤', '날씨가', '요즘은', '요새', '가을', '생각보다', '완전', 'ㅠ', '반갑습니다^^', '다들', '요즘', '날씨', '그나마', '헐', '가을이', '겁나', '와', '특히', '좋아서', '제일', '아주', '아무래도', '그런가', '그러게요', '눈이']\n"
     ]
    }
   ],
   "source": [
    "print(get_most_similar_words(model40, '너무'))"
   ]
  }
 ],
 "metadata": {
  "kernelspec": {
   "display_name": "sbert",
   "language": "python",
   "name": "python3"
  },
  "language_info": {
   "codemirror_mode": {
    "name": "ipython",
    "version": 3
   },
   "file_extension": ".py",
   "mimetype": "text/x-python",
   "name": "python",
   "nbconvert_exporter": "python",
   "pygments_lexer": "ipython3",
   "version": "3.10.8"
  }
 },
 "nbformat": 4,
 "nbformat_minor": 2
}
