{
 "cells": [
  {
   "cell_type": "markdown",
   "metadata": {},
   "source": [
    "# 언어데이터과학 25강 (2023-12-03) 옛한글 처리"
   ]
  },
  {
   "cell_type": "markdown",
   "metadata": {},
   "source": [
    "## 할 일\n",
    "\n",
    "### 오늘의 목표\n",
    "\n",
    "현대 한국어 표기에 쓰이지 않는 옛한글을 포함한 한국어 음절 유형을 분류할 수 있다.\n",
    "  > ᄣᆞᆯ -> CCCVC, ᄎᆔ -> CGVV\n",
    "\n",
    "\n",
    "### 심화 과제\n",
    "\n",
    "임의의 한글 자모의 연쇄를 한글 음절로 합성할 수 있다.\n",
    "  > ㅂㅏㅂㅅㅜㄷㄱㅏㄹㅏㄱ -> 밥숟가락"
   ]
  },
  {
   "cell_type": "code",
   "execution_count": 1,
   "metadata": {},
   "outputs": [],
   "source": [
    "from unicodedata import name, lookup, normalize\n",
    "import re"
   ]
  },
  {
   "cell_type": "markdown",
   "metadata": {},
   "source": [
    "## 옛한글 처리\n"
   ]
  },
  {
   "cell_type": "markdown",
   "metadata": {},
   "source": [
    "\n",
    "### 과거\n",
    "\n",
    "+ PUA(Private Use Areas): 유니코드에서 코드가 할당되지 않은 문자 영역"
   ]
  },
  {
   "cell_type": "code",
   "execution_count": 2,
   "metadata": {},
   "outputs": [
    {
     "name": "stdout",
     "output_type": "stream",
     "text": [
      "\n"
     ]
    }
   ],
   "source": [
    "spy = '\\ue13d'\n",
    "print(spy)"
   ]
  },
  {
   "cell_type": "markdown",
   "metadata": {},
   "source": [
    "### 현재\n",
    "\n",
    "+ \"첫가끝\"(첫소리-가운뎃소리-끝소리): 유니코드에 할당된 자음 문자와 모음 문자의 조합\n",
    "\n",
    "![](https://upload.wikimedia.org/wikipedia/commons/b/bd/Hangul_jamo_characters_in_Unicode.svg)"
   ]
  },
  {
   "cell_type": "markdown",
   "metadata": {},
   "source": [
    "## `unicodedata` 모듈을 사용한 Python 옛한글 처리"
   ]
  },
  {
   "cell_type": "markdown",
   "metadata": {},
   "source": [
    "### `lookup()` 함수로 옛한글 입력하기\n",
    "\n",
    "+ `unicodedata.lookup()`: 유니코드에서 정의된 문자의 이름을 인자로 받아서 해당하는 문자를 돌려주는 함수\n",
    "\n",
    "#### 문자 이름 알아보기\n",
    "\n",
    "+ https://www.unicode.org/charts/PDF/U1100.pdf HANGUL JAMO\n",
    "+ https://www.unicode.org/charts/PDF/UA960.pdf HANGUL JAMO EXTENDED-A\n",
    "+ https://www.unicode.org/charts/PDF/UD7B0.pdf HANGUL JAMO EXTENDED-B"
   ]
  },
  {
   "cell_type": "code",
   "execution_count": 3,
   "metadata": {},
   "outputs": [
    {
     "name": "stdout",
     "output_type": "stream",
     "text": [
      "ᄣᆞᆯ\n"
     ]
    }
   ],
   "source": [
    "# CHOSEONG, JUNGSEONG, JONGSEONG 순서가 맞아야 함\n",
    "onset1 = lookup('HANGUL CHOSEONG PIEUP-SIOS-TIKEUT')\n",
    "nucleus1 = lookup('HANGUL JUNGSEONG ARAEA')\n",
    "coda1 = lookup('HANGUL JONGSEONG RIEUL')\n",
    "print(onset1+nucleus1+coda1)"
   ]
  },
  {
   "cell_type": "code",
   "execution_count": 4,
   "metadata": {},
   "outputs": [
    {
     "name": "stdout",
     "output_type": "stream",
     "text": [
      "조ᇰ\n"
     ]
    }
   ],
   "source": [
    "onset2 = lookup('HANGUL CHOSEONG CIEUC')\n",
    "nucleus2 = lookup('HANGUL JUNGSEONG O')\n",
    "coda2 = lookup('HANGUL JONGSEONG YESIEUNG')\n",
    "print(onset2+nucleus2+coda2)"
   ]
  },
  {
   "cell_type": "code",
   "execution_count": 5,
   "metadata": {},
   "outputs": [
    {
     "name": "stdout",
     "output_type": "stream",
     "text": [
      "ᄎᆔ\n"
     ]
    }
   ],
   "source": [
    "onset3 = lookup('HANGUL CHOSEONG CHIEUCH')\n",
    "nucleus3 = lookup('HANGUL JUNGSEONG YU-I')\n",
    "print(onset3+nucleus3)"
   ]
  },
  {
   "cell_type": "code",
   "execution_count": 6,
   "metadata": {},
   "outputs": [
    {
     "name": "stdout",
     "output_type": "stream",
     "text": [
      "구ᇚ\n"
     ]
    }
   ],
   "source": [
    "onset4 = lookup('HANGUL CHOSEONG KIYEOK')\n",
    "nucleus4 = lookup('HANGUL JUNGSEONG U')\n",
    "coda4 = lookup('HANGUL JONGSEONG MIEUM-KIYEOK')\n",
    "print(onset4+nucleus4+coda4)"
   ]
  },
  {
   "cell_type": "markdown",
   "metadata": {},
   "source": [
    "### `normalize()` 함수로 한글 음절 분해하기\n",
    "\n",
    "+ NFD: Normalization Form (Canonical) D(ecomposition)\n",
    "+ NFC: Normalization Form (Canonical) C(omposition)\n",
    "+ NFKD: Normalization Form Compatibility D(ecomposition)\n",
    "+ NFKC: Normalization Form Compatibility C(omposition)"
   ]
  },
  {
   "cell_type": "code",
   "execution_count": 63,
   "metadata": {},
   "outputs": [],
   "source": [
    "def decompose(str):\n",
    "  return normalize('NFKD', str)"
   ]
  },
  {
   "cell_type": "markdown",
   "metadata": {},
   "source": [
    "### `name()` 함수로 문자 이름 찾기"
   ]
  },
  {
   "cell_type": "code",
   "execution_count": 66,
   "metadata": {},
   "outputs": [],
   "source": [
    "def print_jamo_name(syl:str):\n",
    "  print(syl, name(syl))\n",
    "  print('----------')\n",
    "  for jamo in decompose(syl):\n",
    "    print(jamo, name(jamo))"
   ]
  },
  {
   "cell_type": "code",
   "execution_count": 67,
   "metadata": {},
   "outputs": [
    {
     "name": "stdout",
     "output_type": "stream",
     "text": [
      "뷁 HANGUL SYLLABLE BWELG\n",
      "----------\n",
      "ᄇ HANGUL CHOSEONG PIEUP\n",
      "ᅰ HANGUL JUNGSEONG WE\n",
      "ᆰ HANGUL JONGSEONG RIEUL-KIYEOK\n"
     ]
    }
   ],
   "source": [
    "print_jamo_name('뷁') # CGVCC"
   ]
  },
  {
   "cell_type": "code",
   "execution_count": 10,
   "metadata": {},
   "outputs": [
    {
     "name": "stdout",
     "output_type": "stream",
     "text": [
      "아 HANGUL SYLLABLE A\n",
      "ᄋ HANGUL CHOSEONG IEUNG\n",
      "ᅡ HANGUL JUNGSEONG A\n"
     ]
    }
   ],
   "source": [
    "print_jamo_name('아') # V"
   ]
  },
  {
   "cell_type": "code",
   "execution_count": 11,
   "metadata": {},
   "outputs": [],
   "source": [
    "def romanize(hangul):\n",
    "  hname = name(hangul)\n",
    "  assert hname.startswith('HANGUL')\n",
    "  return hname.split()[-1]"
   ]
  },
  {
   "cell_type": "code",
   "execution_count": 12,
   "metadata": {},
   "outputs": [
    {
     "name": "stdout",
     "output_type": "stream",
     "text": [
      "KIYEOK\n"
     ]
    }
   ],
   "source": [
    "print(romanize('ㄱ'))"
   ]
  },
  {
   "cell_type": "code",
   "execution_count": 13,
   "metadata": {},
   "outputs": [
    {
     "name": "stdout",
     "output_type": "stream",
     "text": [
      "YI\n"
     ]
    }
   ],
   "source": [
    "print(romanize('ㅢ'))"
   ]
  },
  {
   "cell_type": "code",
   "execution_count": 14,
   "metadata": {},
   "outputs": [
    {
     "name": "stdout",
     "output_type": "stream",
     "text": [
      "OE\n"
     ]
    }
   ],
   "source": [
    "print(romanize('ㅚ'))"
   ]
  },
  {
   "cell_type": "code",
   "execution_count": 15,
   "metadata": {},
   "outputs": [
    {
     "name": "stdout",
     "output_type": "stream",
     "text": [
      "WI\n"
     ]
    }
   ],
   "source": [
    "print(romanize('ㅟ'))"
   ]
  },
  {
   "cell_type": "code",
   "execution_count": 17,
   "metadata": {},
   "outputs": [],
   "source": [
    "GLIDES = re.compile(r'^[WY]')"
   ]
  },
  {
   "cell_type": "code",
   "execution_count": 18,
   "metadata": {},
   "outputs": [],
   "source": [
    "def is_letter(hangul):\n",
    "    return name(hangul).startswith('HANGUL LETTER')\n",
    "\n",
    "def is_choseong(jamo):\n",
    "    return name(jamo).startswith('HANGUL CHOSEONG')\n",
    "\n",
    "def is_jungseong(jamo):\n",
    "    return name(jamo).startswith('HANGUL JUNGSEONG')\n",
    "\n",
    "def is_jongseong(jamo):\n",
    "    return name(jamo).startswith('HANGUL JONGSEONG')"
   ]
  },
  {
   "cell_type": "code",
   "execution_count": 19,
   "metadata": {},
   "outputs": [],
   "source": [
    "def get_onset_type(jamo):\n",
    "  assert is_choseong(jamo) or is_letter(jamo)\n",
    "\n",
    "  roman = romanize(jamo)\n",
    "  if romanize(jamo) == 'IEUNG':\n",
    "    return ''\n",
    "  \n",
    "  # 자음의 개수만큼 C를 내보내기\n",
    "  return '' # EDIT THIS LINE"
   ]
  },
  {
   "cell_type": "code",
   "execution_count": 20,
   "metadata": {},
   "outputs": [],
   "source": [
    "def get_nucleus_type(jamo):\n",
    "  assert is_jungseong(jamo) or is_letter(jamo)\n",
    "\n",
    "  roman = romanize(jamo)\n",
    "  output = ''\n",
    "  \n",
    "  # 모음의 개수만큼 V 혹은 GV를 내보내기\n",
    "  # DO SOMETHING HERE\n",
    "  # DO SOMETHING HERE\n",
    "  \n",
    "  return output"
   ]
  },
  {
   "cell_type": "code",
   "execution_count": 21,
   "metadata": {},
   "outputs": [],
   "source": [
    "def get_coda_type(jamo):\n",
    "  assert is_jongseong(jamo) or is_letter(jamo)\n",
    "\n",
    "  roman = romanize(jamo)\n",
    "  return (roman.count('-')+1) * 'C'"
   ]
  },
  {
   "cell_type": "code",
   "execution_count": 22,
   "metadata": {},
   "outputs": [],
   "source": [
    "def is_syllable(char):\n",
    "  try:\n",
    "    return name(char).startswith('HANGUL SYLLABLE')\n",
    "  except ValueError:\n",
    "    return False\n",
    "  except TypeError:\n",
    "    return False"
   ]
  },
  {
   "cell_type": "code",
   "execution_count": 23,
   "metadata": {},
   "outputs": [
    {
     "name": "stdout",
     "output_type": "stream",
     "text": [
      "True\n",
      "False\n"
     ]
    }
   ],
   "source": [
    "print(is_syllable('앍'))\n",
    "print(is_syllable('ㅇㅇ'))"
   ]
  },
  {
   "cell_type": "code",
   "execution_count": 24,
   "metadata": {},
   "outputs": [
    {
     "name": "stdout",
     "output_type": "stream",
     "text": [
      "False\n"
     ]
    }
   ],
   "source": [
    "print(is_syllable(spy))"
   ]
  },
  {
   "cell_type": "code",
   "execution_count": 25,
   "metadata": {},
   "outputs": [],
   "source": [
    "def to_choseong(hangul):\n",
    "    try:\n",
    "        return lookup(re.sub('LETTER|JONGSEONG', 'CHOSEONG', name(hangul)))\n",
    "    except:\n",
    "        return hangul\n",
    "\n",
    "def to_jungseong(hangul):\n",
    "    try:\n",
    "        jname = name(hangul)\n",
    "        # [hw14Adv] DO SOMETHING HERE\n",
    "        return lookup(jname.replace('LETTER', 'JUNGSEONG'))\n",
    "    except:\n",
    "        return hangul\n",
    "\n",
    "def to_jongseong(hangul):\n",
    "    try:\n",
    "        return lookup(re.sub('LETTER|CHOSEONG', 'JONGSEONG', name(hangul)))\n",
    "    except:\n",
    "        return hangul"
   ]
  },
  {
   "cell_type": "code",
   "execution_count": 26,
   "metadata": {},
   "outputs": [],
   "source": [
    "def to_syllable(jamos):\n",
    "    output = ''\n",
    "    if 2 <= len(jamos) <= 3:\n",
    "        output += to_choseong(jamos[0])\n",
    "        output += to_jungseong(jamos[1])\n",
    "    if len(jamos) == 3:\n",
    "        output += to_jongseong(jamos[2])\n",
    "    \n",
    "    return normalize('NFKC', output)"
   ]
  },
  {
   "cell_type": "code",
   "execution_count": 27,
   "metadata": {},
   "outputs": [],
   "source": [
    "def is_jamo_syllable(string):\n",
    "    try:\n",
    "        onset, nucleus = string[0:2]\n",
    "        result = is_choseong(to_choseong(onset)) and is_jungseong(to_jungseong(nucleus))\n",
    "        coda = string[2:]\n",
    "        if coda:\n",
    "            result = result and is_jongseong(to_jongseong(coda))\n",
    "    except:\n",
    "        return False\n",
    "    \n",
    "    return result\n"
   ]
  },
  {
   "cell_type": "code",
   "execution_count": 28,
   "metadata": {},
   "outputs": [
    {
     "name": "stdout",
     "output_type": "stream",
     "text": [
      "True\n",
      "False\n",
      "False\n",
      "True\n"
     ]
    }
   ],
   "source": [
    "print(is_jamo_syllable('ㄱㅏㅁ'))\n",
    "print(is_jamo_syllable('ㄱㅏㅁ4'))\n",
    "print(is_jamo_syllable('ㄱㅏㅁㅁ'))\n",
    "print(is_jamo_syllable('ᄣᆞᆯ'))"
   ]
  },
  {
   "cell_type": "code",
   "execution_count": 29,
   "metadata": {},
   "outputs": [],
   "source": [
    "def is_any_syllable(string):\n",
    "    return is_jamo_syllable(string) or is_syllable(string)"
   ]
  },
  {
   "cell_type": "code",
   "execution_count": 30,
   "metadata": {},
   "outputs": [
    {
     "name": "stdout",
     "output_type": "stream",
     "text": [
      "False\n",
      "True\n",
      "True\n",
      "True\n",
      "True\n",
      "False\n"
     ]
    }
   ],
   "source": [
    "print(is_any_syllable('ㅇ'))\n",
    "print(is_any_syllable('앆'))\n",
    "print(is_any_syllable(decompose('앆')))\n",
    "print(is_any_syllable('ㅇㅏ'))\n",
    "print(is_any_syllable('ㅇㅏㄲ'))\n",
    "print(is_any_syllable('ㅇㅏㅇㅇ'))"
   ]
  },
  {
   "cell_type": "code",
   "execution_count": 31,
   "metadata": {},
   "outputs": [],
   "source": [
    "def to_letter(jamo):\n",
    "    try:\n",
    "        jname = name(jamo)\n",
    "        # [hw14Adv] DO SOMETHING HERE\n",
    "        return lookup(re.sub('(?:CHO|JUNG|JONG)SEONG', 'LETTER', jname))\n",
    "    except:\n",
    "        return jamo"
   ]
  },
  {
   "cell_type": "code",
   "execution_count": 32,
   "metadata": {},
   "outputs": [],
   "source": [
    "def to_letters(jamos):\n",
    "    return ''.join(to_letter(jamo) for jamo in jamos)"
   ]
  },
  {
   "cell_type": "markdown",
   "metadata": {},
   "source": [
    "+ https://unicode.org/charts/PDF/U3130.pdf HANGUL COMPATIBILITY JAMO"
   ]
  },
  {
   "cell_type": "code",
   "execution_count": 33,
   "metadata": {},
   "outputs": [],
   "source": [
    "# Advanced homework\n",
    "def split_syllables(jamos):\n",
    "    jamos = to_letters(jamos)\n",
    "    \n",
    "    # [hw14adv] DO SOMETHING HERE"
   ]
  },
  {
   "cell_type": "code",
   "execution_count": 34,
   "metadata": {},
   "outputs": [
    {
     "name": "stdout",
     "output_type": "stream",
     "text": [
      "['ㅂㅏ', 'ㅂㅏㅁ', 'ㅂㅏ']\n"
     ]
    }
   ],
   "source": [
    "jamos = 'ㅂㅏㅂㅏㅁㅂㅏ'\n",
    "print(split_syllables(jamos))"
   ]
  },
  {
   "cell_type": "code",
   "execution_count": 35,
   "metadata": {},
   "outputs": [
    {
     "name": "stdout",
     "output_type": "stream",
     "text": [
      "['제', '2', '0', '2', '3', '年', 'ㄷㅗ', ' ', 'D', 'e', 'c', ' ', '1', 'ㅇㅣㄹ', '.']\n"
     ]
    }
   ],
   "source": [
    "complex_jamos = '제2023年ㄷㅗ Dec 4ㅇㅣㄹ.'\n",
    "print(split_syllables(complex_jamos))"
   ]
  },
  {
   "cell_type": "code",
   "execution_count": 36,
   "metadata": {},
   "outputs": [
    {
     "name": "stdout",
     "output_type": "stream",
     "text": [
      "[':', 'ㄱㅣㅁ', '4', 'ㅂㅏㅂ']\n"
     ]
    }
   ],
   "source": [
    "jamos = ':ㄱㅣㅁ4ㅂㅏㅂ'\n",
    "print(split_syllables(jamos))\n"
   ]
  },
  {
   "cell_type": "code",
   "execution_count": 37,
   "metadata": {},
   "outputs": [
    {
     "name": "stdout",
     "output_type": "stream",
     "text": [
      "['ㄱㅏㅁ', '2', '3']\n",
      "['ㄷㅗㄹ', 'ㄱㅣㅁ']\n",
      "['ㅂㅣ', 'ㅂㅣㅁ', 'ㅂㅏㅂ']\n",
      "['ㅋㅔ', 'ㅇㅣㄹ', 'ㄹㅣ', '-', 'ㅎㅐ', 'ㅁㅣㄹ', 'ㅌㅓㄴ']\n"
     ]
    }
   ],
   "source": [
    "print(split_syllables('ㄱㅏㅁ23'))\n",
    "print(split_syllables('ㄷㅗㄹㄱㅣㅁ'))\n",
    "print(split_syllables('ㅂㅣㅂㅣㅁㅂㅏㅂ'))\n",
    "print(split_syllables('ㅋㅔㅇㅣㄹㄹㅣ-ㅎㅐㅁㅣㄹㅌㅓㄴ'))"
   ]
  },
  {
   "cell_type": "code",
   "execution_count": 56,
   "metadata": {},
   "outputs": [],
   "source": [
    "def get_syllable_type(syl):\n",
    "  '''\n",
    "  >>> get_syllable_type('ㅂ')\n",
    "  'C'\n",
    "  >>> get_syllable_type('ㅏ')\n",
    "  'V'\n",
    "  >>> get_syllable_type('밤')\n",
    "  'CVC'\n",
    "  >>> get_syllable_type('ㅂㅏ')\n",
    "  'VC'\n",
    "  '''\n",
    "  # Consonant jamo only\n",
    "  if 1 + 1 == 2: # EDIT THIS LINE\n",
    "    return get_onset_type(syl)\n",
    "\n",
    "  elif 1 + 1 == 3: # EDIT THIS LINE\n",
    "    return get_coda_type(syl)\n",
    "\n",
    "  # Vowel jamo only\n",
    "  elif 1 + 1 == 1: # EDIT THIS LINE\n",
    "    return get_nucleus_type(syl)\n",
    "\n",
    "  # HANGUL SYLLABLE: need to be decomposed\n",
    "  elif is_syllable(syl):\n",
    "    dec = decompose(syl)\n",
    "\n",
    "  # HANGUL jamo sequence: already\n",
    "  elif is_jamo_syllable(syl):\n",
    "    dec = syl\n",
    "\n",
    "  else:\n",
    "    return None\n",
    "  \n",
    "  onset, nucleus = dec[0:2]\n",
    "  output = get_onset_type(onset) + get_nucleus_type(nucleus)\n",
    "\n",
    "  coda = dec[2:]\n",
    "  if coda:\n",
    "    output += get_coda_type(coda)\n",
    "  \n",
    "  return output"
   ]
  },
  {
   "cell_type": "code",
   "execution_count": 59,
   "metadata": {},
   "outputs": [
    {
     "name": "stdout",
     "output_type": "stream",
     "text": [
      "C\n"
     ]
    }
   ],
   "source": [
    "consonant = 'ㄸ'\n",
    "print(get_syllable_type(consonant))"
   ]
  },
  {
   "cell_type": "code",
   "execution_count": 52,
   "metadata": {},
   "outputs": [
    {
     "name": "stdout",
     "output_type": "stream",
     "text": [
      "GV\n"
     ]
    }
   ],
   "source": [
    "vowel = 'ㅑ'\n",
    "print(get_syllable_type(vowel))"
   ]
  },
  {
   "cell_type": "code",
   "execution_count": 39,
   "metadata": {},
   "outputs": [
    {
     "name": "stdout",
     "output_type": "stream",
     "text": [
      "CGVCC\n"
     ]
    }
   ],
   "source": [
    "syl = 'ㄲㅑㄳ'\n",
    "print(get_syllable_type(syl))"
   ]
  },
  {
   "cell_type": "code",
   "execution_count": 40,
   "metadata": {},
   "outputs": [
    {
     "name": "stdout",
     "output_type": "stream",
     "text": [
      "CCCVC\n"
     ]
    }
   ],
   "source": [
    "syl1 = 'ᄣᆞᆯ'\n",
    "print(get_syllable_type(syl1))"
   ]
  },
  {
   "cell_type": "code",
   "execution_count": 48,
   "metadata": {},
   "outputs": [
    {
     "name": "stdout",
     "output_type": "stream",
     "text": [
      "CGVV\n"
     ]
    }
   ],
   "source": [
    "syl2 = 'ᄎᆔ'\n",
    "print(get_syllable_type(syl2))"
   ]
  },
  {
   "cell_type": "markdown",
   "metadata": {},
   "source": [
    "### 최종: 임의의 한글 문자열에서 음절 유형 추출하기"
   ]
  },
  {
   "cell_type": "code",
   "execution_count": 41,
   "metadata": {},
   "outputs": [],
   "source": [
    "def get_syllable_types(string):\n",
    "    # [hw14adv] DO SOMETHING HERE\n",
    "    return tuple() # EDIT THIS LINE"
   ]
  },
  {
   "cell_type": "code",
   "execution_count": 47,
   "metadata": {},
   "outputs": [
    {
     "data": {
      "text/plain": [
       "('GVCC', 'VC')"
      ]
     },
     "execution_count": 47,
     "metadata": {},
     "output_type": "execute_result"
    }
   ],
   "source": [
    "get_syllable_types('얇은?')"
   ]
  },
  {
   "cell_type": "code",
   "execution_count": 43,
   "metadata": {},
   "outputs": [
    {
     "data": {
      "text/plain": [
       "('VC', 'CV', 'CV')"
      ]
     },
     "execution_count": 43,
     "metadata": {},
     "output_type": "execute_result"
    }
   ],
   "source": [
    "get_syllable_types('ㅇㅗㄱㅅㅜㅅㅜ')"
   ]
  },
  {
   "cell_type": "code",
   "execution_count": 44,
   "metadata": {},
   "outputs": [
    {
     "data": {
      "text/plain": [
       "('CV', 'CVC', 'CV')"
      ]
     },
     "execution_count": 44,
     "metadata": {},
     "output_type": "execute_result"
    }
   ],
   "source": [
    "get_syllable_types('ㅂㅏ밤ㅂㅏ')"
   ]
  },
  {
   "cell_type": "code",
   "execution_count": 45,
   "metadata": {},
   "outputs": [
    {
     "data": {
      "text/plain": [
       "('CV', 'CVC', 'C', 'C', 'C', 'C', 'C', 'CV')"
      ]
     },
     "execution_count": 45,
     "metadata": {},
     "output_type": "execute_result"
    }
   ],
   "source": [
    "get_syllable_types('ㅂㅏ밤ㅁㅁㅁㅁㅁㅂㅏ')"
   ]
  },
  {
   "cell_type": "code",
   "execution_count": 46,
   "metadata": {},
   "outputs": [
    {
     "data": {
      "text/plain": [
       "('CVC', 'CGVC')"
      ]
     },
     "execution_count": 46,
     "metadata": {},
     "output_type": "execute_result"
    }
   ],
   "source": [
    "get_syllable_types('ᄇᆡᆨ쳥')"
   ]
  }
 ],
 "metadata": {
  "kernelspec": {
   "display_name": "Python 3",
   "language": "python",
   "name": "python3"
  },
  "language_info": {
   "codemirror_mode": {
    "name": "ipython",
    "version": 3
   },
   "file_extension": ".py",
   "mimetype": "text/x-python",
   "name": "python",
   "nbconvert_exporter": "python",
   "pygments_lexer": "ipython3",
   "version": "3.8.2"
  }
 },
 "nbformat": 4,
 "nbformat_minor": 2
}
